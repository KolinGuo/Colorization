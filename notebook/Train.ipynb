{
 "cells": [
  {
   "cell_type": "code",
   "execution_count": 1,
   "id": "celtic-special",
   "metadata": {},
   "outputs": [],
   "source": [
    "import sys\n",
    "sys.path.append(\"/Colorization/src\")  # Append path to src\n",
    "import time\n",
    "import numpy as np"
   ]
  },
  {
   "cell_type": "code",
   "execution_count": 2,
   "id": "public-petite",
   "metadata": {},
   "outputs": [
    {
     "name": "stderr",
     "output_type": "stream",
     "text": [
      "Matplotlib created a temporary config/cache directory at /tmp/matplotlib-e6od9ils because the default path (/.config/matplotlib) is not a writable directory; it is highly recommended to set the MPLCONFIGDIR environment variable to a writable directory, in particular to speed up the import of Matplotlib and to better support multiprocessing.\n"
     ]
    }
   ],
   "source": [
    "from train import get_parser, train\n",
    "run_cmd = './src/train.py eccv16'  # Training\n",
    "run_cmd = './src/train.py eccv16 --batch-per-epoch 10 --val-batch 10'  # Testing\n",
    "run_cmd = './src/train.py eccv16_pretrained --batch-per-epoch 10 --val-batch 1'  # Testing\n",
    "run_cmd = './src/train.py eccv16_half --batch-size 256 --val-batch-size 256 --batch-per-epoch 30 --val-batch 10'  # Testing\n",
    "run_cmd = './src/train.py eccv16_half --batch-size 256 --val-batch-size 256 --val-batch 8'  # Training"
   ]
  },
  {
   "cell_type": "code",
   "execution_count": null,
   "id": "supported-cradle",
   "metadata": {},
   "outputs": [
    {
     "name": "stdout",
     "output_type": "stream",
     "text": [
      "\n",
      "Num GPUs Available: 1\n",
      "\n",
      "Found existing prior probs, won't regenerate it\n",
      "Train/Val Dataset \"train2017\" loaded: 118287 samples, 463 batches\n",
      "Train/Val Dataset \"val2017\" loaded: 5000 samples, 20 batches\n",
      "Predict Dataset \"val2017\" loaded: 6 samples, 6 batches\n"
     ]
    },
    {
     "name": "stderr",
     "output_type": "stream",
     "text": [
      "  0%|          | 0/463 [00:00<?, ?it/s]/usr/local/lib/python3.6/dist-packages/torch/nn/functional.py:3455: UserWarning: Default upsampling behavior when mode=bilinear is changed to align_corners=False since 0.4.0. Please specify align_corners=True if the old behavior is desired. See the documentation of nn.Upsample for details.\n",
      "  \"See the documentation of nn.Upsample for details.\".format(mode)\n",
      "  6%|▋         | 29/463 [01:02<15:41,  2.17s/it]\n",
      " 35%|███▌      | 7/20 [04:03<07:33, 34.88s/it]"
     ]
    }
   ],
   "source": [
    "parser = get_parser()\n",
    "train_args = parser.parse_args(run_cmd.split()[1:])\n",
    "train(train_args)"
   ]
  },
  {
   "cell_type": "markdown",
   "id": "official-million",
   "metadata": {},
   "source": [
    "## Visualize val images"
   ]
  },
  {
   "cell_type": "code",
   "execution_count": 2,
   "id": "absolute-football",
   "metadata": {},
   "outputs": [],
   "source": [
    "import argparse"
   ]
  },
  {
   "cell_type": "code",
   "execution_count": 3,
   "id": "respiratory-order",
   "metadata": {},
   "outputs": [],
   "source": [
    "run_cmd = './src/train.py -vi 10 -vi 23 --val-img-idx 2'  # Training"
   ]
  },
  {
   "cell_type": "code",
   "execution_count": 4,
   "id": "molecular-details",
   "metadata": {},
   "outputs": [],
   "source": [
    "parser = argparse.ArgumentParser()\n",
    "parser.add_argument('-vi', '--val-img-idx', type=int, action='append', default=[1, 5, 9])\n",
    "args = parser.parse_args(run_cmd.split()[1:])"
   ]
  },
  {
   "cell_type": "code",
   "execution_count": 37,
   "id": "equipped-internship",
   "metadata": {},
   "outputs": [
    {
     "data": {
      "text/plain": [
       "[1, 2, 5, 9, 10, 23]"
      ]
     },
     "execution_count": 37,
     "metadata": {},
     "output_type": "execute_result"
    }
   ],
   "source": [
    "sorted(args.val_img_idx)"
   ]
  },
  {
   "cell_type": "code",
   "execution_count": 21,
   "id": "embedded-sound",
   "metadata": {},
   "outputs": [],
   "source": [
    "import os, glob\n",
    "img_paths = sorted(glob.glob(os.path.join('/Colorization/data/val2017', '*.jpg')))"
   ]
  },
  {
   "cell_type": "code",
   "execution_count": 30,
   "id": "plastic-legend",
   "metadata": {},
   "outputs": [
    {
     "data": {
      "text/plain": [
       "'/Colorization/data/val2017/000000002532.jpg'"
      ]
     },
     "execution_count": 30,
     "metadata": {},
     "output_type": "execute_result"
    }
   ],
   "source": [
    "img_paths[30]"
   ]
  },
  {
   "cell_type": "code",
   "execution_count": 33,
   "id": "center-dubai",
   "metadata": {},
   "outputs": [
    {
     "data": {
      "text/plain": [
       "6"
      ]
     },
     "execution_count": 33,
     "metadata": {},
     "output_type": "execute_result"
    }
   ],
   "source": [
    "len(args.val_img_idx)"
   ]
  },
  {
   "cell_type": "code",
   "execution_count": 6,
   "id": "placed-stamp",
   "metadata": {},
   "outputs": [],
   "source": [
    "args.hw_resize = 256"
   ]
  },
  {
   "cell_type": "code",
   "execution_count": 7,
   "id": "adjustable-history",
   "metadata": {},
   "outputs": [
    {
     "data": {
      "text/plain": [
       "Namespace(hw_resize=256, val_img_idx=[1, 5, 9, 10, 23, 2])"
      ]
     },
     "execution_count": 7,
     "metadata": {},
     "output_type": "execute_result"
    }
   ],
   "source": [
    "args"
   ]
  },
  {
   "cell_type": "code",
   "execution_count": null,
   "id": "second-capitol",
   "metadata": {},
   "outputs": [],
   "source": []
  }
 ],
 "metadata": {
  "kernelspec": {
   "display_name": "Python 3",
   "language": "python",
   "name": "python3"
  },
  "language_info": {
   "codemirror_mode": {
    "name": "ipython",
    "version": 3
   },
   "file_extension": ".py",
   "mimetype": "text/x-python",
   "name": "python",
   "nbconvert_exporter": "python",
   "pygments_lexer": "ipython3",
   "version": "3.6.9"
  }
 },
 "nbformat": 4,
 "nbformat_minor": 5
}
