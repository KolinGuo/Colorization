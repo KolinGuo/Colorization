{
 "cells": [
  {
   "cell_type": "code",
   "execution_count": 1,
   "id": "celtic-special",
   "metadata": {},
   "outputs": [],
   "source": [
    "import sys\n",
    "sys.path.append(\"/Colorization/src\")  # Append path to src\n",
    "import time\n",
    "import numpy as np"
   ]
  },
  {
   "cell_type": "code",
   "execution_count": 2,
   "id": "public-petite",
   "metadata": {},
   "outputs": [
    {
     "name": "stderr",
     "output_type": "stream",
     "text": [
      "Matplotlib created a temporary config/cache directory at /tmp/matplotlib-1dg9z4nf because the default path (/.config/matplotlib) is not a writable directory; it is highly recommended to set the MPLCONFIGDIR environment variable to a writable directory, in particular to speed up the import of Matplotlib and to better support multiprocessing.\n"
     ]
    }
   ],
   "source": [
    "from train import get_parser, train\n",
    "run_cmd = './src/train.py eccv16'  # Training\n",
    "run_cmd = './src/train.py eccv16 --batch-per-epoch 10 --val-batch 10'  # Testing\n",
    "run_cmd = './src/train.py eccv16_pretrained --batch-per-epoch 10 --val-batch 1'  # Testing\n",
    "run_cmd = './src/train.py eccv16_half --batch-size 256 --val-batch-size 256 --batch-per-epoch 30 --val-batch 10'  # Testing\n",
    "run_cmd = './src/train.py eccv16_half --batch-size 256 --val-batch-size 256 --val-batch 8'  # Training\n",
    "run_cmd = './src/train.py eccv16_half --loss-func MSELoss --batch-size 256 --val-batch-size 256 --val-batch 8'  # Training\n",
    "run_cmd = './src/train.py eccv16_half --ckpt-filepath /Colorization/checkpoints/eccv16_half-20210313_235419/cp-020-0.3544.ckpt.pth --num-epochs 30 --batch-size 256 --val-batch-size 256 --val-batch 8'  # Resume Training\n",
    "run_cmd = './src/train.py eccv16_half --ckpt-filepath /Colorization/checkpoints/eccv16_half-20210313_235419/cp-020-0.3544.ckpt.pth --num-epochs 30 --color-vivid-gamma 3.0 --batch-size 256 --val-batch-size 256 --val-batch 8'  # Resume Training, gamma=3.0\n",
    "run_cmd = './src/train.py eccv16_half --color-vivid-gamma 1.0 --batch-size 256 --val-batch-size 256 --val-batch 8'  # Training, gamma=1.0"
   ]
  },
  {
   "cell_type": "code",
   "execution_count": 3,
   "id": "supported-cradle",
   "metadata": {},
   "outputs": [
    {
     "name": "stdout",
     "output_type": "stream",
     "text": [
      "\n",
      "Num GPUs Available: 1\n",
      "\n",
      "Found existing prior probs, won't regenerate it\n",
      "Train/Val Dataset \"train2017\" loaded: 118060 samples, 462 batches\n",
      "Train/Val Dataset \"val2017\" loaded: 5000 samples, 20 batches\n",
      "Predict Dataset \"val2017\" loaded: 6 samples, 6 batches\n"
     ]
    },
    {
     "name": "stderr",
     "output_type": "stream",
     "text": [
      "  0%|          | 0/462 [00:00<?, ?it/s]/usr/local/lib/python3.6/dist-packages/torch/nn/functional.py:3455: UserWarning: Default upsampling behavior when mode=bilinear is changed to align_corners=False since 0.4.0. Please specify align_corners=True if the old behavior is desired. See the documentation of nn.Upsample for details.\n",
      "  \"See the documentation of nn.Upsample for details.\".format(mode)\n",
      "100%|██████████| 462/462 [15:52<00:00,  2.06s/it]\n",
      " 35%|███▌      | 7/20 [04:37<08:35, 39.68s/it]\n",
      "  0%|          | 0/6 [00:00<?, ?it/s]"
     ]
    },
    {
     "name": "stdout",
     "output_type": "stream",
     "text": [
      "Epoch 1/20: train_loss=14317751.0\tval_loss=13162118.0\tval_auc=0.5569\n"
     ]
    },
    {
     "name": "stderr",
     "output_type": "stream",
     "text": [
      "100%|██████████| 6/6 [00:03<00:00,  1.90it/s]\n",
      "  0%|          | 0/462 [00:00<?, ?it/s]"
     ]
    },
    {
     "name": "stdout",
     "output_type": "stream",
     "text": [
      "Checkpoint saved to /Colorization/checkpoints/eccv16_half-20210317_111335/cp-001-0.5569.ckpt.pth\n"
     ]
    },
    {
     "name": "stderr",
     "output_type": "stream",
     "text": [
      "100%|██████████| 462/462 [15:55<00:00,  2.07s/it]\n",
      " 35%|███▌      | 7/20 [04:35<08:32, 39.42s/it]\n",
      "  0%|          | 0/6 [00:00<?, ?it/s]"
     ]
    },
    {
     "name": "stdout",
     "output_type": "stream",
     "text": [
      "Epoch 2/20: train_loss=12681131.0\tval_loss=11574968.0\tval_auc=0.4559\n"
     ]
    },
    {
     "name": "stderr",
     "output_type": "stream",
     "text": [
      "100%|██████████| 6/6 [00:01<00:00,  3.89it/s]\n",
      "  0%|          | 0/462 [00:00<?, ?it/s]"
     ]
    },
    {
     "name": "stdout",
     "output_type": "stream",
     "text": [
      "Checkpoint saved to /Colorization/checkpoints/eccv16_half-20210317_111335/cp-002-0.4559.ckpt.pth\n"
     ]
    },
    {
     "name": "stderr",
     "output_type": "stream",
     "text": [
      "100%|██████████| 462/462 [15:50<00:00,  2.06s/it]\n",
      " 35%|███▌      | 7/20 [04:34<08:30, 39.25s/it]\n",
      "  0%|          | 0/6 [00:00<?, ?it/s]"
     ]
    },
    {
     "name": "stdout",
     "output_type": "stream",
     "text": [
      "Epoch 3/20: train_loss=11529847.0\tval_loss=10971080.0\tval_auc=0.4242\n"
     ]
    },
    {
     "name": "stderr",
     "output_type": "stream",
     "text": [
      "100%|██████████| 6/6 [00:01<00:00,  3.99it/s]\n",
      "  0%|          | 0/462 [00:00<?, ?it/s]"
     ]
    },
    {
     "name": "stdout",
     "output_type": "stream",
     "text": [
      "Checkpoint saved to /Colorization/checkpoints/eccv16_half-20210317_111335/cp-003-0.4242.ckpt.pth\n"
     ]
    },
    {
     "name": "stderr",
     "output_type": "stream",
     "text": [
      "100%|██████████| 462/462 [15:29<00:00,  2.01s/it]\n",
      " 35%|███▌      | 7/20 [04:29<08:21, 38.54s/it]\n",
      "  0%|          | 0/6 [00:00<?, ?it/s]"
     ]
    },
    {
     "name": "stdout",
     "output_type": "stream",
     "text": [
      "Epoch 4/20: train_loss=10996310.0\tval_loss=10584860.0\tval_auc=0.4180\n"
     ]
    },
    {
     "name": "stderr",
     "output_type": "stream",
     "text": [
      "100%|██████████| 6/6 [00:01<00:00,  3.92it/s]\n",
      "  0%|          | 0/462 [00:00<?, ?it/s]"
     ]
    },
    {
     "name": "stdout",
     "output_type": "stream",
     "text": [
      "Checkpoint saved to /Colorization/checkpoints/eccv16_half-20210317_111335/cp-004-0.4180.ckpt.pth\n"
     ]
    },
    {
     "name": "stderr",
     "output_type": "stream",
     "text": [
      "100%|██████████| 462/462 [15:34<00:00,  2.02s/it]\n",
      " 35%|███▌      | 7/20 [04:38<08:37, 39.83s/it]\n",
      "  0%|          | 0/6 [00:00<?, ?it/s]"
     ]
    },
    {
     "name": "stdout",
     "output_type": "stream",
     "text": [
      "Epoch 5/20: train_loss=10605690.0\tval_loss=10217374.0\tval_auc=0.3898\n"
     ]
    },
    {
     "name": "stderr",
     "output_type": "stream",
     "text": [
      "100%|██████████| 6/6 [00:01<00:00,  3.83it/s]\n",
      "  0%|          | 0/462 [00:00<?, ?it/s]"
     ]
    },
    {
     "name": "stdout",
     "output_type": "stream",
     "text": [
      "Checkpoint saved to /Colorization/checkpoints/eccv16_half-20210317_111335/cp-005-0.3898.ckpt.pth\n"
     ]
    },
    {
     "name": "stderr",
     "output_type": "stream",
     "text": [
      "100%|██████████| 462/462 [15:47<00:00,  2.05s/it]\n",
      " 35%|███▌      | 7/20 [04:38<08:36, 39.76s/it]\n",
      "  0%|          | 0/6 [00:00<?, ?it/s]"
     ]
    },
    {
     "name": "stdout",
     "output_type": "stream",
     "text": [
      "Epoch 6/20: train_loss=10293526.0\tval_loss=10021135.0\tval_auc=0.3702\n"
     ]
    },
    {
     "name": "stderr",
     "output_type": "stream",
     "text": [
      "100%|██████████| 6/6 [00:01<00:00,  3.71it/s]\n",
      "  0%|          | 0/462 [00:00<?, ?it/s]"
     ]
    },
    {
     "name": "stdout",
     "output_type": "stream",
     "text": [
      "Checkpoint saved to /Colorization/checkpoints/eccv16_half-20210317_111335/cp-006-0.3702.ckpt.pth\n"
     ]
    },
    {
     "name": "stderr",
     "output_type": "stream",
     "text": [
      "100%|██████████| 462/462 [15:49<00:00,  2.06s/it]\n",
      " 35%|███▌      | 7/20 [04:41<08:42, 40.18s/it]\n",
      "  0%|          | 0/6 [00:00<?, ?it/s]"
     ]
    },
    {
     "name": "stdout",
     "output_type": "stream",
     "text": [
      "Epoch 7/20: train_loss=10038936.0\tval_loss=9812004.0\tval_auc=0.3491\n"
     ]
    },
    {
     "name": "stderr",
     "output_type": "stream",
     "text": [
      "100%|██████████| 6/6 [00:01<00:00,  3.85it/s]\n",
      "  0%|          | 0/462 [00:00<?, ?it/s]"
     ]
    },
    {
     "name": "stdout",
     "output_type": "stream",
     "text": [
      "Checkpoint saved to /Colorization/checkpoints/eccv16_half-20210317_111335/cp-007-0.3491.ckpt.pth\n"
     ]
    },
    {
     "name": "stderr",
     "output_type": "stream",
     "text": [
      "100%|██████████| 462/462 [16:04<00:00,  2.09s/it]\n",
      " 35%|███▌      | 7/20 [04:38<08:37, 39.81s/it]\n",
      "  0%|          | 0/6 [00:00<?, ?it/s]"
     ]
    },
    {
     "name": "stdout",
     "output_type": "stream",
     "text": [
      "Epoch 8/20: train_loss=9809909.0\tval_loss=9683330.0\tval_auc=0.3848\n"
     ]
    },
    {
     "name": "stderr",
     "output_type": "stream",
     "text": [
      "100%|██████████| 6/6 [00:01<00:00,  3.79it/s]\n",
      "  0%|          | 0/462 [00:00<?, ?it/s]"
     ]
    },
    {
     "name": "stdout",
     "output_type": "stream",
     "text": [
      "Checkpoint saved to /Colorization/checkpoints/eccv16_half-20210317_111335/cp-008-0.3848.ckpt.pth\n"
     ]
    },
    {
     "name": "stderr",
     "output_type": "stream",
     "text": [
      "100%|██████████| 462/462 [15:35<00:00,  2.03s/it]\n",
      " 35%|███▌      | 7/20 [04:33<08:27, 39.01s/it]\n",
      "  0%|          | 0/6 [00:00<?, ?it/s]"
     ]
    },
    {
     "name": "stdout",
     "output_type": "stream",
     "text": [
      "Epoch 9/20: train_loss=9576702.0\tval_loss=9568800.0\tval_auc=0.3874\n"
     ]
    },
    {
     "name": "stderr",
     "output_type": "stream",
     "text": [
      "100%|██████████| 6/6 [00:01<00:00,  3.65it/s]\n",
      "  0%|          | 0/462 [00:00<?, ?it/s]"
     ]
    },
    {
     "name": "stdout",
     "output_type": "stream",
     "text": [
      "Checkpoint saved to /Colorization/checkpoints/eccv16_half-20210317_111335/cp-009-0.3874.ckpt.pth\n"
     ]
    },
    {
     "name": "stderr",
     "output_type": "stream",
     "text": [
      "100%|██████████| 462/462 [15:33<00:00,  2.02s/it]\n",
      " 35%|███▌      | 7/20 [04:32<08:26, 38.97s/it]\n",
      "  0%|          | 0/6 [00:00<?, ?it/s]"
     ]
    },
    {
     "name": "stdout",
     "output_type": "stream",
     "text": [
      "Epoch 10/20: train_loss=9334782.0\tval_loss=9553787.0\tval_auc=0.3911\n"
     ]
    },
    {
     "name": "stderr",
     "output_type": "stream",
     "text": [
      "100%|██████████| 6/6 [00:01<00:00,  3.91it/s]\n",
      "  0%|          | 0/462 [00:00<?, ?it/s]"
     ]
    },
    {
     "name": "stdout",
     "output_type": "stream",
     "text": [
      "Checkpoint saved to /Colorization/checkpoints/eccv16_half-20210317_111335/cp-010-0.3911.ckpt.pth\n"
     ]
    },
    {
     "name": "stderr",
     "output_type": "stream",
     "text": [
      "100%|██████████| 462/462 [15:37<00:00,  2.03s/it]\n",
      " 35%|███▌      | 7/20 [04:36<08:33, 39.52s/it]\n",
      "  0%|          | 0/6 [00:00<?, ?it/s]"
     ]
    },
    {
     "name": "stdout",
     "output_type": "stream",
     "text": [
      "Epoch 11/20: train_loss=9016619.0\tval_loss=9552598.0\tval_auc=0.4060\n"
     ]
    },
    {
     "name": "stderr",
     "output_type": "stream",
     "text": [
      "100%|██████████| 6/6 [00:01<00:00,  3.91it/s]\n",
      "  0%|          | 0/462 [00:00<?, ?it/s]"
     ]
    },
    {
     "name": "stdout",
     "output_type": "stream",
     "text": [
      "Checkpoint saved to /Colorization/checkpoints/eccv16_half-20210317_111335/cp-011-0.4060.ckpt.pth\n"
     ]
    },
    {
     "name": "stderr",
     "output_type": "stream",
     "text": [
      "100%|██████████| 462/462 [15:30<00:00,  2.02s/it]\n",
      " 35%|███▌      | 7/20 [04:33<08:27, 39.02s/it]\n",
      "  0%|          | 0/6 [00:00<?, ?it/s]"
     ]
    },
    {
     "name": "stdout",
     "output_type": "stream",
     "text": [
      "Epoch 12/20: train_loss=8639649.0\tval_loss=9984148.0\tval_auc=0.4331\n"
     ]
    },
    {
     "name": "stderr",
     "output_type": "stream",
     "text": [
      "100%|██████████| 6/6 [00:01<00:00,  3.84it/s]\n",
      "  0%|          | 0/462 [00:00<?, ?it/s]"
     ]
    },
    {
     "name": "stdout",
     "output_type": "stream",
     "text": [
      "Checkpoint saved to /Colorization/checkpoints/eccv16_half-20210317_111335/cp-012-0.4331.ckpt.pth\n"
     ]
    },
    {
     "name": "stderr",
     "output_type": "stream",
     "text": [
      "100%|██████████| 462/462 [15:34<00:00,  2.02s/it]\n",
      " 35%|███▌      | 7/20 [04:31<08:24, 38.82s/it]\n",
      "  0%|          | 0/6 [00:00<?, ?it/s]"
     ]
    },
    {
     "name": "stdout",
     "output_type": "stream",
     "text": [
      "Epoch 13/20: train_loss=8223592.0\tval_loss=9882406.0\tval_auc=0.4280\n"
     ]
    },
    {
     "name": "stderr",
     "output_type": "stream",
     "text": [
      "100%|██████████| 6/6 [00:01<00:00,  3.92it/s]\n",
      "  0%|          | 0/462 [00:00<?, ?it/s]"
     ]
    },
    {
     "name": "stdout",
     "output_type": "stream",
     "text": [
      "Checkpoint saved to /Colorization/checkpoints/eccv16_half-20210317_111335/cp-013-0.4280.ckpt.pth\n"
     ]
    },
    {
     "name": "stderr",
     "output_type": "stream",
     "text": [
      "100%|██████████| 462/462 [15:35<00:00,  2.03s/it]\n",
      " 35%|███▌      | 7/20 [04:39<08:38, 39.91s/it]\n",
      "  0%|          | 0/6 [00:00<?, ?it/s]"
     ]
    },
    {
     "name": "stdout",
     "output_type": "stream",
     "text": [
      "Epoch 14/20: train_loss=7829620.5\tval_loss=9920456.0\tval_auc=0.4172\n"
     ]
    },
    {
     "name": "stderr",
     "output_type": "stream",
     "text": [
      "100%|██████████| 6/6 [00:01<00:00,  3.65it/s]\n",
      "  0%|          | 0/462 [00:00<?, ?it/s]"
     ]
    },
    {
     "name": "stdout",
     "output_type": "stream",
     "text": [
      "Checkpoint saved to /Colorization/checkpoints/eccv16_half-20210317_111335/cp-014-0.4172.ckpt.pth\n"
     ]
    },
    {
     "name": "stderr",
     "output_type": "stream",
     "text": [
      "100%|██████████| 462/462 [16:17<00:00,  2.12s/it]\n",
      " 35%|███▌      | 7/20 [04:49<08:56, 41.29s/it]\n",
      "  0%|          | 0/6 [00:00<?, ?it/s]"
     ]
    },
    {
     "name": "stdout",
     "output_type": "stream",
     "text": [
      "Epoch 15/20: train_loss=7477367.5\tval_loss=10279207.0\tval_auc=0.4354\n"
     ]
    },
    {
     "name": "stderr",
     "output_type": "stream",
     "text": [
      "100%|██████████| 6/6 [00:01<00:00,  3.69it/s]\n",
      "  0%|          | 0/462 [00:00<?, ?it/s]"
     ]
    },
    {
     "name": "stdout",
     "output_type": "stream",
     "text": [
      "Checkpoint saved to /Colorization/checkpoints/eccv16_half-20210317_111335/cp-015-0.4354.ckpt.pth\n"
     ]
    },
    {
     "name": "stderr",
     "output_type": "stream",
     "text": [
      "100%|██████████| 462/462 [16:20<00:00,  2.12s/it]\n",
      " 35%|███▌      | 7/20 [04:47<08:53, 41.02s/it]\n",
      "  0%|          | 0/6 [00:00<?, ?it/s]"
     ]
    },
    {
     "name": "stdout",
     "output_type": "stream",
     "text": [
      "Epoch 16/20: train_loss=7179107.0\tval_loss=10041504.0\tval_auc=0.4133\n"
     ]
    },
    {
     "name": "stderr",
     "output_type": "stream",
     "text": [
      "100%|██████████| 6/6 [00:01<00:00,  3.68it/s]\n",
      "  0%|          | 0/462 [00:00<?, ?it/s]"
     ]
    },
    {
     "name": "stdout",
     "output_type": "stream",
     "text": [
      "Checkpoint saved to /Colorization/checkpoints/eccv16_half-20210317_111335/cp-016-0.4133.ckpt.pth\n"
     ]
    },
    {
     "name": "stderr",
     "output_type": "stream",
     "text": [
      "100%|██████████| 462/462 [15:59<00:00,  2.08s/it]\n",
      " 35%|███▌      | 7/20 [04:39<08:38, 39.87s/it]\n",
      "  0%|          | 0/6 [00:00<?, ?it/s]"
     ]
    },
    {
     "name": "stdout",
     "output_type": "stream",
     "text": [
      "Epoch 17/20: train_loss=6927129.0\tval_loss=9966379.0\tval_auc=0.4121\n"
     ]
    },
    {
     "name": "stderr",
     "output_type": "stream",
     "text": [
      "100%|██████████| 6/6 [00:01<00:00,  3.78it/s]\n",
      "  0%|          | 0/462 [00:00<?, ?it/s]"
     ]
    },
    {
     "name": "stdout",
     "output_type": "stream",
     "text": [
      "Checkpoint saved to /Colorization/checkpoints/eccv16_half-20210317_111335/cp-017-0.4121.ckpt.pth\n"
     ]
    },
    {
     "name": "stderr",
     "output_type": "stream",
     "text": [
      "100%|██████████| 462/462 [15:46<00:00,  2.05s/it]\n",
      " 35%|███▌      | 7/20 [04:45<08:50, 40.84s/it]\n",
      "  0%|          | 0/6 [00:00<?, ?it/s]/usr/local/lib/python3.6/dist-packages/skimage/color/colorconv.py:1128: UserWarning: Color data out of range: Z < 0 in 1 pixels\n",
      "  return xyz2rgb(lab2xyz(lab, illuminant, observer))\n"
     ]
    },
    {
     "name": "stdout",
     "output_type": "stream",
     "text": [
      "Epoch 18/20: train_loss=6705474.0\tval_loss=10208829.0\tval_auc=0.4078\n"
     ]
    },
    {
     "name": "stderr",
     "output_type": "stream",
     "text": [
      "100%|██████████| 6/6 [00:01<00:00,  3.84it/s]\n",
      "  0%|          | 0/462 [00:00<?, ?it/s]"
     ]
    },
    {
     "name": "stdout",
     "output_type": "stream",
     "text": [
      "Checkpoint saved to /Colorization/checkpoints/eccv16_half-20210317_111335/cp-018-0.4078.ckpt.pth\n"
     ]
    },
    {
     "name": "stderr",
     "output_type": "stream",
     "text": [
      "100%|██████████| 462/462 [15:46<00:00,  2.05s/it]\n",
      " 35%|███▌      | 7/20 [04:34<08:29, 39.22s/it]\n",
      "  0%|          | 0/6 [00:00<?, ?it/s]"
     ]
    },
    {
     "name": "stdout",
     "output_type": "stream",
     "text": [
      "Epoch 19/20: train_loss=6510677.5\tval_loss=9982685.0\tval_auc=0.3963\n"
     ]
    },
    {
     "name": "stderr",
     "output_type": "stream",
     "text": [
      "100%|██████████| 6/6 [00:01<00:00,  3.89it/s]\n",
      "  0%|          | 0/462 [00:00<?, ?it/s]"
     ]
    },
    {
     "name": "stdout",
     "output_type": "stream",
     "text": [
      "Checkpoint saved to /Colorization/checkpoints/eccv16_half-20210317_111335/cp-019-0.3963.ckpt.pth\n"
     ]
    },
    {
     "name": "stderr",
     "output_type": "stream",
     "text": [
      "100%|██████████| 462/462 [15:39<00:00,  2.03s/it]\n",
      " 35%|███▌      | 7/20 [04:31<08:24, 38.81s/it]\n",
      "  0%|          | 0/6 [00:00<?, ?it/s]"
     ]
    },
    {
     "name": "stdout",
     "output_type": "stream",
     "text": [
      "Epoch 20/20: train_loss=6334150.0\tval_loss=10286614.0\tval_auc=0.3967\n"
     ]
    },
    {
     "name": "stderr",
     "output_type": "stream",
     "text": [
      "100%|██████████| 6/6 [00:01<00:00,  3.82it/s]\n"
     ]
    },
    {
     "name": "stdout",
     "output_type": "stream",
     "text": [
      "Checkpoint saved to /Colorization/checkpoints/eccv16_half-20210317_111335/cp-020-0.3967.ckpt.pth\n",
      "Training finished!\n"
     ]
    }
   ],
   "source": [
    "parser = get_parser()\n",
    "train_args = parser.parse_args(run_cmd.split()[1:])\n",
    "train(train_args)"
   ]
  },
  {
   "cell_type": "markdown",
   "id": "proper-material",
   "metadata": {},
   "source": [
    "## Visualize val images"
   ]
  },
  {
   "cell_type": "code",
   "execution_count": 2,
   "id": "continental-peoples",
   "metadata": {},
   "outputs": [],
   "source": [
    "import argparse"
   ]
  },
  {
   "cell_type": "code",
   "execution_count": 3,
   "id": "eleven-finance",
   "metadata": {},
   "outputs": [],
   "source": [
    "run_cmd = './src/train.py -vi 10 -vi 23 --val-img-idx 2'  # Training"
   ]
  },
  {
   "cell_type": "code",
   "execution_count": 4,
   "id": "trained-exploration",
   "metadata": {},
   "outputs": [],
   "source": [
    "parser = argparse.ArgumentParser()\n",
    "parser.add_argument('-vi', '--val-img-idx', type=int, action='append', default=[1, 5, 9])\n",
    "args = parser.parse_args(run_cmd.split()[1:])"
   ]
  },
  {
   "cell_type": "code",
   "execution_count": 37,
   "id": "instructional-zoning",
   "metadata": {},
   "outputs": [
    {
     "data": {
      "text/plain": [
       "[1, 2, 5, 9, 10, 23]"
      ]
     },
     "execution_count": 37,
     "metadata": {},
     "output_type": "execute_result"
    }
   ],
   "source": [
    "sorted(args.val_img_idx)"
   ]
  },
  {
   "cell_type": "code",
   "execution_count": 21,
   "id": "hawaiian-irish",
   "metadata": {},
   "outputs": [],
   "source": [
    "import os, glob\n",
    "img_paths = sorted(glob.glob(os.path.join('/Colorization/data/val2017', '*.jpg')))"
   ]
  },
  {
   "cell_type": "code",
   "execution_count": 30,
   "id": "sought-shooting",
   "metadata": {},
   "outputs": [
    {
     "data": {
      "text/plain": [
       "'/Colorization/data/val2017/000000002532.jpg'"
      ]
     },
     "execution_count": 30,
     "metadata": {},
     "output_type": "execute_result"
    }
   ],
   "source": [
    "img_paths[30]"
   ]
  },
  {
   "cell_type": "code",
   "execution_count": 33,
   "id": "declared-registration",
   "metadata": {},
   "outputs": [
    {
     "data": {
      "text/plain": [
       "6"
      ]
     },
     "execution_count": 33,
     "metadata": {},
     "output_type": "execute_result"
    }
   ],
   "source": [
    "len(args.val_img_idx)"
   ]
  },
  {
   "cell_type": "code",
   "execution_count": 6,
   "id": "protected-interest",
   "metadata": {},
   "outputs": [],
   "source": [
    "args.hw_resize = 256"
   ]
  },
  {
   "cell_type": "code",
   "execution_count": 7,
   "id": "devoted-caribbean",
   "metadata": {},
   "outputs": [
    {
     "data": {
      "text/plain": [
       "Namespace(hw_resize=256, val_img_idx=[1, 5, 9, 10, 23, 2])"
      ]
     },
     "execution_count": 7,
     "metadata": {},
     "output_type": "execute_result"
    }
   ],
   "source": [
    "args"
   ]
  },
  {
   "cell_type": "code",
   "execution_count": null,
   "id": "simplified-anime",
   "metadata": {},
   "outputs": [],
   "source": []
  }
 ],
 "metadata": {
  "kernelspec": {
   "display_name": "Python 3",
   "language": "python",
   "name": "python3"
  },
  "language_info": {
   "codemirror_mode": {
    "name": "ipython",
    "version": 3
   },
   "file_extension": ".py",
   "mimetype": "text/x-python",
   "name": "python",
   "nbconvert_exporter": "python",
   "pygments_lexer": "ipython3",
   "version": "3.6.9"
  }
 },
 "nbformat": 4,
 "nbformat_minor": 5
}
