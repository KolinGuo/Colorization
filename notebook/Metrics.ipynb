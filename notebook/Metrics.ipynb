{
 "cells": [
  {
   "cell_type": "code",
   "execution_count": 1,
   "id": "downtown-assistant",
   "metadata": {},
   "outputs": [
    {
     "name": "stderr",
     "output_type": "stream",
     "text": [
      "Matplotlib created a temporary config/cache directory at /tmp/matplotlib-29qxd7ek because the default path (/.config/matplotlib) is not a writable directory; it is highly recommended to set the MPLCONFIGDIR environment variable to a writable directory, in particular to speed up the import of Matplotlib and to better support multiprocessing.\n"
     ]
    }
   ],
   "source": [
    "import sys\n",
    "sys.path.append(\"/Colorization/src\")  # Append path to src\n",
    "import time\n",
    "import numpy as np\n",
    "from tqdm import tqdm\n",
    "import matplotlib.pyplot as plt\n",
    "\n",
    "from networks.dataset import load_dataset, get_dataset_prior_probs, ColorQuantization, PriorFactor\n",
    "from networks.models import get_model\n",
    "from networks.losses import get_loss_func\n",
    "from networks.metrics import AUC, RebalancedAUC"
   ]
  },
  {
   "cell_type": "code",
   "execution_count": 2,
   "id": "stock-alignment",
   "metadata": {},
   "outputs": [
    {
     "name": "stdout",
     "output_type": "stream",
     "text": [
      "loading annotations into memory...\n",
      "Done (t=9.69s)\n",
      "creating index...\n",
      "index created!\n"
     ]
    }
   ],
   "source": [
    "root = '/Colorization/data/train2017'\n",
    "annFile = '/Colorization/data/annotations/instances_train2017.json'\n",
    "batch_size = 64\n",
    "train_dataset = load_dataset(root, annFile, batch_size)"
   ]
  },
  {
   "cell_type": "code",
   "execution_count": 3,
   "id": "facial-means",
   "metadata": {},
   "outputs": [
    {
     "name": "stdout",
     "output_type": "stream",
     "text": [
      "loading annotations into memory...\n",
      "Done (t=0.33s)\n",
      "creating index...\n",
      "index created!\n"
     ]
    }
   ],
   "source": [
    "val_root = '/Colorization/data/val2017'\n",
    "val_annFile = '/Colorization/data/annotations/instances_val2017.json'\n",
    "val_dataset = load_dataset(val_root, val_annFile, batch_size)"
   ]
  },
  {
   "cell_type": "code",
   "execution_count": 4,
   "id": "aquatic-adapter",
   "metadata": {},
   "outputs": [],
   "source": [
    "import torch\n",
    "pytorch_device = torch.device(\"cuda:0\" if torch.cuda.is_available() else \"cpu\")"
   ]
  },
  {
   "cell_type": "code",
   "execution_count": 11,
   "id": "voluntary-evanescence",
   "metadata": {},
   "outputs": [],
   "source": [
    "model_str = 'eccv16_pretrained'\n",
    "#model_str = 'eccv16'\n",
    "model = get_model(model_str).to(pytorch_device)\n",
    "\n",
    "loss_func_str = 'MSELoss_Vibrant'\n",
    "color_vivid_gamma = 2.0\n",
    "loss_func = get_loss_func(loss_func_str, None, color_vivid_gamma)\n",
    "\n",
    "optimizer = torch.optim.Adam(model.parameters(),\n",
    "                             lr=3*1e-5,\n",
    "                             betas=(0.9,0.99),\n",
    "                             weight_decay=1e-3)"
   ]
  },
  {
   "cell_type": "code",
   "execution_count": 12,
   "id": "honest-receipt",
   "metadata": {
    "scrolled": true
   },
   "outputs": [
    {
     "data": {
      "text/plain": [
       "('eccv16_pretrained', 1849, 79)"
      ]
     },
     "execution_count": 12,
     "metadata": {},
     "output_type": "execute_result"
    }
   ],
   "source": [
    "model.name, len(train_dataset), len(val_dataset)"
   ]
  },
  {
   "cell_type": "code",
   "execution_count": 7,
   "id": "smoking-folks",
   "metadata": {},
   "outputs": [
    {
     "name": "stdout",
     "output_type": "stream",
     "text": [
      "Found existing prior probs, won't regenerate it\n"
     ]
    }
   ],
   "source": [
    "root = '/Colorization/data/train2017'\n",
    "annFile = '/Colorization/data/annotations/instances_train2017.json'\n",
    "batch_size = 16\n",
    "ab_gamut_filepath = '/Colorization/data/pts_in_hull.npy'\n",
    "pytorch_device = torch.device(\"cuda:0\" if torch.cuda.is_available() else \"cpu\")\n",
    "\n",
    "prior_probs = get_dataset_prior_probs(root, annFile, batch_size,\n",
    "                                      ab_gamut_filepath, pytorch_device)\n",
    "torch.cuda.empty_cache()"
   ]
  },
  {
   "cell_type": "code",
   "execution_count": 8,
   "id": "pending-reach",
   "metadata": {},
   "outputs": [],
   "source": [
    "color_quant = ColorQuantization(1, 5, ab_gamut_filepath)"
   ]
  },
  {
   "cell_type": "code",
   "execution_count": 13,
   "id": "guilty-learning",
   "metadata": {},
   "outputs": [
    {
     "name": "stderr",
     "output_type": "stream",
     "text": [
      "  0%|          | 0/79 [00:00<?, ?it/s]/usr/local/lib/python3.6/dist-packages/torch/nn/functional.py:3455: UserWarning: Default upsampling behavior when mode=bilinear is changed to align_corners=False since 0.4.0. Please specify align_corners=True if the old behavior is desired. See the documentation of nn.Upsample for details.\n",
      "  \"See the documentation of nn.Upsample for details.\".format(mode)\n",
      "  6%|▋         | 5/79 [03:30<52:01, 42.18s/it]"
     ]
    },
    {
     "name": "stdout",
     "output_type": "stream",
     "text": [
      "tensor(0.5455)\n"
     ]
    },
    {
     "name": "stderr",
     "output_type": "stream",
     "text": [
      "\n"
     ]
    }
   ],
   "source": [
    "## Eval metric\n",
    "auc_metric = RebalancedAUC(prior_probs, color_quant, step_size = 1.0,\n",
    "                           device=\"cpu\")\n",
    "\n",
    "model = model.eval()\n",
    "with torch.no_grad():\n",
    "    for i, (img_l, y) in enumerate(tqdm(val_dataset)):\n",
    "        img_l = img_l.to(pytorch_device)\n",
    "        y = y.to(pytorch_device)\n",
    "        y_pred = model(img_l)\n",
    "    #     print(y_pred.shape, y.shape)\n",
    "        loss = loss_func(y_pred, y)\n",
    "        #loss = loss_func(model.normalize_ab(y_pred), model.normalize_ab(y))\n",
    "        #print(i, loss)\n",
    "\n",
    "    #     print(np.max(y_pred.cpu().detach().numpy()), np.min(y_pred.cpu().detach().numpy()))\n",
    "    #     diff = y_pred.cpu() - y.cpu()\n",
    "    #     print(diff.detach().numpy().shape)\n",
    "    #     diff = np.linalg.norm(diff.detach().numpy(), axis=1)\n",
    "    #     print(diff.shape)\n",
    "    #     diff_torch = torch.norm(y_pred-y, dim=1)\n",
    "    #     print(diff_torch.shape)\n",
    "    #     np.testing.assert_allclose(diff_torch.cpu().detach().numpy(), diff)\n",
    "    #     print(np.max(diff), np.min(diff))\n",
    "    #     print('cnt: ', np.count_nonzero(diff <= 150))\n",
    "    #     loss = np.sum(diff) / 2 / img_l.shape[0]\n",
    "    #     print(loss)\n",
    "\n",
    "    #     diff = y.cpu() - y.cpu()\n",
    "    #     print(diff.detach().numpy().shape)\n",
    "    #     diff = np.linalg.norm(diff.detach().numpy(), axis=1) ** 2\n",
    "    #     print(diff.shape)\n",
    "    #     print(np.max(diff), np.min(diff))\n",
    "    #     print('cnt: ', np.count_nonzero(diff <= 0)/ np.prod(diff.shape))\n",
    "    #     loss = np.sum(diff) / 2 / img_l.shape[0]\n",
    "    #     print(loss)\n",
    "\n",
    "        auc_metric.reset()\n",
    "        auc_metric.update((y_pred, y))\n",
    "    #     roc_auc_metric.reset()\n",
    "    #     roc_auc_metric.update((y_pred.reshape(-1), y.reshape(-1)))\n",
    "    #     print(roc_auc_metric.compute())\n",
    "        if i == 5:\n",
    "            break\n",
    "\n",
    "print(auc_metric.compute())"
   ]
  },
  {
   "cell_type": "code",
   "execution_count": 10,
   "id": "better-tutorial",
   "metadata": {},
   "outputs": [
    {
     "data": {
      "text/plain": [
       "[<matplotlib.lines.Line2D at 0x7f6d04052a20>]"
      ]
     },
     "execution_count": 10,
     "metadata": {},
     "output_type": "execute_result"
    },
    {
     "data": {
      "image/png": "[encoded data removed]",
      "text/plain": [
       "<Figure size 432x288 with 1 Axes>"
      ]
     },
     "metadata": {
      "needs_background": "light"
     },
     "output_type": "display_data"
    }
   ],
   "source": [
    "## RebalancedAUC from scratch\n",
    "plt.plot(auc_metric.pos_cnt / auc_metric.tot_cnt)\n",
    "# 0.2579"
   ]
  },
  {
   "cell_type": "code",
   "execution_count": 14,
   "id": "checked-third",
   "metadata": {},
   "outputs": [
    {
     "data": {
      "text/plain": [
       "[<matplotlib.lines.Line2D at 0x7f6d07b8f2b0>]"
      ]
     },
     "execution_count": 14,
     "metadata": {},
     "output_type": "execute_result"
    },
    {
     "data": {
      "image/png": "[encoded data removed]",
      "text/plain": [
       "<Figure size 432x288 with 1 Axes>"
      ]
     },
     "metadata": {
      "needs_background": "light"
     },
     "output_type": "display_data"
    }
   ],
   "source": [
    "## RebalancedAUC pretrained\n",
    "plt.plot(auc_metric.pos_cnt / auc_metric.tot_cnt)\n",
    "# "
   ]
  },
  {
   "cell_type": "code",
   "execution_count": 10,
   "id": "prescribed-crowd",
   "metadata": {},
   "outputs": [
    {
     "data": {
      "text/plain": [
       "((16, 1, 256, 256), 97.325005, 0.014699753)"
      ]
     },
     "execution_count": 10,
     "metadata": {},
     "output_type": "execute_result"
    }
   ],
   "source": [
    "weights = pf.forward(color_quant.encode_1hot(y.cpu().numpy()))\n",
    "weights.shape, weights.max(), weights.min()"
   ]
  },
  {
   "cell_type": "code",
   "execution_count": 11,
   "id": "overall-recipe",
   "metadata": {},
   "outputs": [
    {
     "name": "stdout",
     "output_type": "stream",
     "text": [
      "torch.Size([16, 2, 256, 256]) torch.Size([16, 2, 256, 256])\n",
      "Normal dist:  tensor(89.1384, grad_fn=<MaxBackward1>) tensor(0.0043, grad_fn=<MinBackward1>)\n",
      "tensor(7270.2266, grad_fn=<MaxBackward1>) tensor(6.3826e-05, grad_fn=<MinBackward1>)\n",
      "<class 'torch.Tensor'>\n",
      "torch.Size([151])\n",
      "torch.Size([1, 1, 1, 151]) torch.Size([16, 256, 256, 1])\n",
      "torch.Size([16, 256, 256, 151])\n",
      "tensor([      0,  652713,  726385,  779161,  826874,  856273,  876434,  889218,\n",
      "         897908,  904720,  910739,  917619,  924527,  931337,  938023,  944814,\n",
      "         951970,  958937,  964109,  967927,  970878,  973335,  975606,  977656,\n",
      "         979561,  981245,  983117,  985127,  987033,  988737,  990357,  991940,\n",
      "         993600,  995103,  996530,  998037,  999474, 1000818, 1002043, 1003205,\n",
      "        1004455, 1005659, 1006923, 1008419, 1009694, 1010686, 1011480, 1012182,\n",
      "        1012863, 1013509, 1014203, 1014853, 1015533, 1016231, 1016886, 1017500,\n",
      "        1018098, 1018620, 1019104, 1019562, 1020047, 1020509, 1020986, 1021456,\n",
      "        1021883, 1022313, 1022814, 1023317, 1023840, 1024391, 1024914, 1025495,\n",
      "        1026107, 1026682, 1027325, 1027882, 1028427, 1029019, 1029515, 1029993,\n",
      "        1030473, 1030920, 1031317, 1031658, 1031974, 1032314, 1032607, 1032855,\n",
      "        1033065, 1033266, 1033434, 1033602, 1033751, 1033918, 1034134, 1034321,\n",
      "        1034524, 1034716, 1034966, 1035204, 1035427, 1035627, 1035836, 1036053,\n",
      "        1036296, 1036518, 1036709, 1036918, 1037100, 1037288, 1037482, 1037689,\n",
      "        1037879, 1038044, 1038207, 1038365, 1038512, 1038652, 1038778, 1038913,\n",
      "        1039042, 1039161, 1039289, 1039388, 1039496, 1039597, 1039702, 1039803,\n",
      "        1039918, 1040007, 1040099, 1040186, 1040274, 1040370, 1040452, 1040542,\n",
      "        1040648, 1040791, 1040945, 1041080, 1041208, 1041323, 1041446, 1041523,\n",
      "        1041601, 1041688, 1041773, 1041886, 1041983, 1042097, 1042190]) 1048576\n",
      "tensor(0.9538)\n"
     ]
    },
    {
     "data": {
      "text/plain": [
       "[<matplotlib.lines.Line2D at 0x7f5a0b2a4da0>]"
      ]
     },
     "execution_count": 11,
     "metadata": {},
     "output_type": "execute_result"
    },
    {
     "data": {
      "image/png": "[encoded data removed]",
      "text/plain": [
       "<Figure size 432x288 with 1 Axes>"
      ]
     },
     "metadata": {
      "needs_background": "light"
     },
     "output_type": "display_data"
    }
   ],
   "source": [
    "## AUC\n",
    "print(y_pred.shape, y.shape)\n",
    "\n",
    "diff = y_pred.cpu() - y.cpu()\n",
    "#diff = y.cpu() - y.cpu()\n",
    "dist = torch.norm(diff, dim=1)\n",
    "print('Normal dist: ', dist.max(), dist.min())\n",
    "\n",
    "dist = torch.norm(diff, dim=1) * torch.Tensor(weights[:, 0, ...])\n",
    "# dist = torch.norm(diff, dim=1) * torch.Tensor(weights_pred)\n",
    "#dist = torch.norm(diff, dim=1) / (torch.Tensor(weights[:, 0, ...]))\n",
    "\n",
    "#dist = (150-torch.norm(diff, dim=1)) * torch.Tensor(prior_probs[inds][:, 0, ...])\n",
    "\n",
    "print(dist.max(), dist.min())\n",
    "\n",
    "#dist /= dist.max() * 150\n",
    "#print(dist.max(), dist.min())\n",
    "\n",
    "step = 1.0\n",
    "thresholds = torch.arange(0, 150+step, step=step)\n",
    "print(type(thresholds))\n",
    "print(thresholds.shape)\n",
    "print(thresholds[None,None,None,...].shape, dist[...,None].shape)\n",
    "\n",
    "print(torch.le(dist[...,None], thresholds[None,None,None,...]).shape)\n",
    "\n",
    "pos_cnt = torch.sum(torch.le(dist[...,None], thresholds[None,None,None,...]), dim=(0,1,2))\n",
    "tot_cnt = torch.numel(dist)\n",
    "print(pos_cnt, tot_cnt)\n",
    "print(torch.sum(pos_cnt / tot_cnt) / torch.numel(pos_cnt))\n",
    "\n",
    "plt.plot(pos_cnt / tot_cnt)"
   ]
  },
  {
   "cell_type": "code",
   "execution_count": 15,
   "id": "documented-politics",
   "metadata": {},
   "outputs": [
    {
     "name": "stdout",
     "output_type": "stream",
     "text": [
      "torch.Size([16, 2, 256, 256]) torch.Size([16, 2, 256, 256])\n",
      "Normal dist:  tensor(99.2936, grad_fn=<MaxBackward1>) tensor(0.0700, grad_fn=<MinBackward1>)\n",
      "tensor(6291.1841, grad_fn=<MaxBackward1>) tensor(0.0010, grad_fn=<MinBackward1>)\n",
      "<class 'torch.Tensor'>\n",
      "torch.Size([151])\n",
      "torch.Size([1, 1, 1, 151]) torch.Size([16, 256, 256, 1])\n",
      "torch.Size([16, 256, 256, 151])\n",
      "tensor([      0,  621772,  684284,  744697,  761393,  770258,  790870,  827538,\n",
      "         849705,  863153,  871821,  881767,  891733,  900384,  906212,  910248,\n",
      "         912997,  915504,  917437,  919788,  921838,  923848,  926554,  930336,\n",
      "         935337,  942272,  947890,  951800,  954796,  957425,  959941,  962226,\n",
      "         965282,  968612,  970388,  971226,  971695,  971956,  972179,  972343,\n",
      "         972556,  972984,  973585,  974329,  975337,  976691,  978356,  980187,\n",
      "         982030,  983768,  985440,  986379,  987120,  987793,  988593,  989534,\n",
      "         990484,  991638,  992763,  993882,  994945,  995985,  997043,  998056,\n",
      "         999501, 1000942, 1002616, 1004440, 1005464, 1006299, 1007036, 1007684,\n",
      "        1008207, 1008715, 1009289, 1009916, 1010550, 1011200, 1011860, 1012446,\n",
      "        1012954, 1013408, 1013830, 1014190, 1014634, 1015113, 1015772, 1016524,\n",
      "        1017362, 1018196, 1018982, 1019693, 1020311, 1020853, 1021416, 1021896,\n",
      "        1022327, 1022703, 1022992, 1023177, 1023284, 1023371, 1023415, 1023438,\n",
      "        1023452, 1023468, 1023475, 1023481, 1023491, 1023503, 1023511, 1023521,\n",
      "        1023534, 1023547, 1023581, 1023610, 1023640, 1023681, 1023735, 1023799,\n",
      "        1023873, 1023967, 1024069, 1024169, 1024287, 1024431, 1024592, 1024712,\n",
      "        1024804, 1024891, 1024974, 1025036, 1025080, 1025130, 1025161, 1025197,\n",
      "        1025221, 1025246, 1025280, 1025316, 1025342, 1025374, 1025405, 1025452,\n",
      "        1025509, 1025597, 1025675, 1025779, 1025930, 1026062, 1026206]) 1048576\n",
      "tensor(0.9309)\n"
     ]
    },
    {
     "data": {
      "text/plain": [
       "[<matplotlib.lines.Line2D at 0x7f5a0b1c8c18>]"
      ]
     },
     "execution_count": 15,
     "metadata": {},
     "output_type": "execute_result"
    },
    {
     "data": {
      "image/png": "[encoded data removed]",
      "text/plain": [
       "<Figure size 432x288 with 1 Axes>"
      ]
     },
     "metadata": {
      "needs_background": "light"
     },
     "output_type": "display_data"
    }
   ],
   "source": [
    "## AUC scratch\n",
    "print(y_pred.shape, y.shape)\n",
    "\n",
    "diff = y_pred.cpu() - y.cpu()\n",
    "#diff = y.cpu() - y.cpu()\n",
    "dist = torch.norm(diff, dim=1)\n",
    "print('Normal dist: ', dist.max(), dist.min())\n",
    "\n",
    "dist = torch.norm(diff, dim=1) * torch.Tensor(weights[:, 0, ...])\n",
    "# dist = torch.norm(diff, dim=1) * torch.Tensor(weights_pred)\n",
    "#dist = torch.norm(diff, dim=1) / (torch.Tensor(weights[:, 0, ...]))\n",
    "\n",
    "#dist = (150-torch.norm(diff, dim=1)) * torch.Tensor(prior_probs[inds][:, 0, ...])\n",
    "\n",
    "print(dist.max(), dist.min())\n",
    "\n",
    "#dist /= dist.max() * 150\n",
    "#print(dist.max(), dist.min())\n",
    "\n",
    "step = 1.0\n",
    "thresholds = torch.arange(0, 150+step, step=step)\n",
    "print(type(thresholds))\n",
    "print(thresholds.shape)\n",
    "print(thresholds[None,None,None,...].shape, dist[...,None].shape)\n",
    "\n",
    "print(torch.le(dist[...,None], thresholds[None,None,None,...]).shape)\n",
    "\n",
    "pos_cnt = torch.sum(torch.le(dist[...,None], thresholds[None,None,None,...]), dim=(0,1,2))\n",
    "tot_cnt = torch.numel(dist)\n",
    "print(pos_cnt, tot_cnt)\n",
    "print(torch.sum(pos_cnt / tot_cnt) / torch.numel(pos_cnt))\n",
    "\n",
    "plt.plot(pos_cnt / tot_cnt)"
   ]
  },
  {
   "cell_type": "markdown",
   "id": "green-chick",
   "metadata": {},
   "source": [
    "## Debugging"
   ]
  },
  {
   "cell_type": "code",
   "execution_count": 179,
   "id": "resident-spring",
   "metadata": {},
   "outputs": [],
   "source": [
    "import sys\n",
    "sys.path.append(\"/Colorization/src\")  # Append path to src\n",
    "import time\n",
    "import numpy as np\n",
    "import matplotlib.pyplot as plt"
   ]
  },
  {
   "cell_type": "code",
   "execution_count": 2,
   "id": "physical-thickness",
   "metadata": {},
   "outputs": [],
   "source": [
    "from networks.dataset import load_dataset, get_dataset_prior_probs\n",
    "from networks.models import get_model\n",
    "from networks.losses import get_loss_func\n",
    "from networks.metrics import AUC"
   ]
  },
  {
   "cell_type": "code",
   "execution_count": 9,
   "id": "developmental-sleeping",
   "metadata": {},
   "outputs": [
    {
     "name": "stdout",
     "output_type": "stream",
     "text": [
      "Found existing prior probs, won't regenerate it\n"
     ]
    }
   ],
   "source": [
    "root = '/Colorization/data/train2017'\n",
    "annFile = '/Colorization/data/annotations/instances_train2017.json'\n",
    "batch_size = 16\n",
    "ab_gamut_filepath = '/Colorization/data/pts_in_hull.npy'\n",
    "pytorch_device = torch.device(\"cuda:0\" if torch.cuda.is_available() else \"cpu\")\n",
    "\n",
    "prior_probs = get_dataset_prior_probs(root, annFile, batch_size,\n",
    "                                      ab_gamut_filepath, pytorch_device)\n",
    "torch.cuda.empty_cache()"
   ]
  },
  {
   "cell_type": "code",
   "execution_count": 315,
   "id": "equivalent-telephone",
   "metadata": {},
   "outputs": [
    {
     "name": "stderr",
     "output_type": "stream",
     "text": [
      "  0%|          | 0/79 [00:00<?, ?it/s]/usr/local/lib/python3.6/dist-packages/torch/nn/functional.py:3455: UserWarning: Default upsampling behavior when mode=bilinear is changed to align_corners=False since 0.4.0. Please specify align_corners=True if the old behavior is desired. See the documentation of nn.Upsample for details.\n",
      "  \"See the documentation of nn.Upsample for details.\".format(mode)\n",
      "  0%|          | 0/79 [00:03<?, ?it/s]"
     ]
    },
    {
     "name": "stdout",
     "output_type": "stream",
     "text": [
      "tensor(0.9028)\n"
     ]
    },
    {
     "name": "stderr",
     "output_type": "stream",
     "text": [
      "\n"
     ]
    }
   ],
   "source": [
    "## Eval metric\n",
    "auc_metric = AUC(step_size = 1.0,\n",
    "                           device=\"cpu\")\n",
    "\n",
    "model = model.eval()\n",
    "with torch.no_grad():\n",
    "    for i, (img_l, y) in enumerate(tqdm(val_dataset)):\n",
    "        img_l = img_l.to(pytorch_device)\n",
    "        y = y.to(pytorch_device)\n",
    "        y_pred = model(img_l)\n",
    "    #     print(y_pred.shape, y.shape)\n",
    "        loss = loss_func(y_pred, y)\n",
    "        #loss = loss_func(model.normalize_ab(y_pred), model.normalize_ab(y))\n",
    "        #print(i, loss)\n",
    "\n",
    "    #     print(np.max(y_pred.cpu().detach().numpy()), np.min(y_pred.cpu().detach().numpy()))\n",
    "    #     diff = y_pred.cpu() - y.cpu()\n",
    "    #     print(diff.detach().numpy().shape)\n",
    "    #     diff = np.linalg.norm(diff.detach().numpy(), axis=1)\n",
    "    #     print(diff.shape)\n",
    "    #     diff_torch = torch.norm(y_pred-y, dim=1)\n",
    "    #     print(diff_torch.shape)\n",
    "    #     np.testing.assert_allclose(diff_torch.cpu().detach().numpy(), diff)\n",
    "    #     print(np.max(diff), np.min(diff))\n",
    "    #     print('cnt: ', np.count_nonzero(diff <= 150))\n",
    "    #     loss = np.sum(diff) / 2 / img_l.shape[0]\n",
    "    #     print(loss)\n",
    "\n",
    "    #     diff = y.cpu() - y.cpu()\n",
    "    #     print(diff.detach().numpy().shape)\n",
    "    #     diff = np.linalg.norm(diff.detach().numpy(), axis=1) ** 2\n",
    "    #     print(diff.shape)\n",
    "    #     print(np.max(diff), np.min(diff))\n",
    "    #     print('cnt: ', np.count_nonzero(diff <= 0)/ np.prod(diff.shape))\n",
    "    #     loss = np.sum(diff) / 2 / img_l.shape[0]\n",
    "    #     print(loss)\n",
    "\n",
    "        auc_metric.reset()\n",
    "        auc_metric.update((y_pred, y))\n",
    "    #     roc_auc_metric.reset()\n",
    "    #     roc_auc_metric.update((y_pred.reshape(-1), y.reshape(-1)))\n",
    "    #     print(roc_auc_metric.compute())\n",
    "        if i == 0:\n",
    "            break\n",
    "\n",
    "print(auc_metric.compute())"
   ]
  },
  {
   "cell_type": "code",
   "execution_count": 72,
   "id": "invalid-mailing",
   "metadata": {},
   "outputs": [
    {
     "name": "stdout",
     "output_type": "stream",
     "text": [
      "torch.Size([16, 2, 256, 256]) torch.Size([16, 2, 256, 256])\n",
      "<class 'torch.Tensor'>\n",
      "torch.Size([151])\n",
      "torch.Size([1, 1, 1, 151]) torch.Size([16, 256, 256, 1])\n",
      "tensor([      0,  173532,  232595,  299043,  355105,  396441,  429464,  462477,\n",
      "         494401,  520777,  544423,  564623,  583766,  602481,  619624,  635068,\n",
      "         653826,  676147,  695187,  708931,  721016,  733764,  747234,  762772,\n",
      "         780408,  798135,  813594,  827767,  841860,  855562,  869522,  881657,\n",
      "         891943,  900927,  909434,  917776,  926352,  934665,  942266,  948602,\n",
      "         954051,  959067,  964043,  971111,  977266,  982414,  987180,  991691,\n",
      "         996881, 1000631, 1004238, 1007842, 1011093, 1013809, 1016264, 1018564,\n",
      "        1020841, 1022952, 1024940, 1026835, 1028452, 1029893, 1031310, 1033348,\n",
      "        1035634, 1037272, 1038704, 1040397, 1042085, 1043603, 1044569, 1045319,\n",
      "        1045952, 1046440, 1046899, 1047332, 1047701, 1047933, 1048029, 1048070,\n",
      "        1048101, 1048135, 1048169, 1048209, 1048266, 1048321, 1048379, 1048426,\n",
      "        1048456, 1048485, 1048500, 1048515, 1048527, 1048538, 1048550, 1048557,\n",
      "        1048563, 1048565, 1048568, 1048574, 1048576, 1048576, 1048576, 1048576,\n",
      "        1048576, 1048576, 1048576, 1048576, 1048576, 1048576, 1048576, 1048576,\n",
      "        1048576, 1048576, 1048576, 1048576, 1048576, 1048576, 1048576, 1048576,\n",
      "        1048576, 1048576, 1048576, 1048576, 1048576, 1048576, 1048576, 1048576,\n",
      "        1048576, 1048576, 1048576, 1048576, 1048576, 1048576, 1048576, 1048576,\n",
      "        1048576, 1048576, 1048576, 1048576, 1048576, 1048576, 1048576, 1048576,\n",
      "        1048576, 1048576, 1048576, 1048576, 1048576, 1048576, 1048576]) 1048576\n"
     ]
    },
    {
     "data": {
      "text/plain": [
       "tensor(0.8961)"
      ]
     },
     "execution_count": 72,
     "metadata": {},
     "output_type": "execute_result"
    }
   ],
   "source": [
    "## AUC\n",
    "print(y_pred.shape, y.shape)\n",
    "\n",
    "diff = y_pred.cpu() - y.cpu()\n",
    "dist = torch.norm(diff, dim=1)\n",
    "\n",
    "step = 1.0\n",
    "thresholds = torch.arange(0, 150+step, step=step)\n",
    "print(type(thresholds))\n",
    "print(thresholds.shape)\n",
    "print(thresholds[None,None,None,...].shape, dist[...,None].shape)\n",
    "\n",
    "pos_cnt = torch.sum(torch.le(dist[...,None], thresholds[None,None,None,...]), dim=(0,1,2))\n",
    "tot_cnt = torch.numel(dist)\n",
    "print(pos_cnt, tot_cnt)\n",
    "torch.sum(pos_cnt / tot_cnt) / torch.numel(pos_cnt)"
   ]
  },
  {
   "cell_type": "code",
   "execution_count": 11,
   "id": "technological-singapore",
   "metadata": {},
   "outputs": [],
   "source": [
    "def knn(ref, query, k: int = 10):\n",
    "    # query: [N, 2]. ref: [K, 2]\n",
    "    # query[:,None,:] - ref: [N, K, 2]\n",
    "    dists = torch.norm(query[:,None,:] - ref, dim=-1)  # [N, K]\n",
    "    #dists, inds = torch.sort(dists, dim=-1)\n",
    "    dists, inds = torch.topk(dists, k, dim=-1, largest=False, sorted=False)\n",
    "    return dists, inds"
   ]
  },
  {
   "cell_type": "code",
   "execution_count": 12,
   "id": "wanted-modeling",
   "metadata": {},
   "outputs": [
    {
     "name": "stdout",
     "output_type": "stream",
     "text": [
      "tensor([[6.2686],\n",
      "        [6.1089],\n",
      "        [5.4987],\n",
      "        ...,\n",
      "        [3.4822],\n",
      "        [4.0059],\n",
      "        [4.4669]]) tensor([[140],\n",
      "        [121],\n",
      "        [121],\n",
      "        ...,\n",
      "        [120],\n",
      "        [120],\n",
      "        [120]])\n"
     ]
    }
   ],
   "source": [
    "## RebalancedAUC\n",
    "ab_grids = np.load('/Colorization/data/pts_in_hull.npy')\n",
    "dists, inds = knn(torch.Tensor(ab_grids),\n",
    "                  torch.moveaxis(y.cpu(), 1, -1).reshape(-1,2),\n",
    "                  1)\n",
    "print(dists, inds)"
   ]
  },
  {
   "cell_type": "code",
   "execution_count": 251,
   "id": "disturbed-desperate",
   "metadata": {
    "scrolled": true
   },
   "outputs": [
    {
     "name": "stdout",
     "output_type": "stream",
     "text": [
      "tensor([[0.1999],\n",
      "        [0.1999],\n",
      "        [0.1999],\n",
      "        ...,\n",
      "        [0.1996],\n",
      "        [0.1996],\n",
      "        [0.1996]]) tensor([[120],\n",
      "        [120],\n",
      "        [120],\n",
      "        ...,\n",
      "        [120],\n",
      "        [120],\n",
      "        [120]])\n"
     ]
    }
   ],
   "source": [
    "## RebalancedAUC\n",
    "ab_grids = np.load('/Colorization/data/pts_in_hull.npy')\n",
    "dists_pred, inds_pred = knn(torch.Tensor(ab_grids),\n",
    "                  torch.moveaxis(y_pred.cpu(), 1, -1).reshape(-1,2),\n",
    "                  1)\n",
    "print(dists_pred, inds_pred)"
   ]
  },
  {
   "cell_type": "code",
   "execution_count": 252,
   "id": "overall-manual",
   "metadata": {},
   "outputs": [
    {
     "name": "stdout",
     "output_type": "stream",
     "text": [
      "torch.Size([64, 256, 256])\n"
     ]
    }
   ],
   "source": [
    "inds_pred = inds_pred.reshape(\n",
    "    np.array(torch.moveaxis(y.cpu(), 1, -1).shape[:-1]).tolist())\n",
    "print(inds_pred.shape)"
   ]
  },
  {
   "cell_type": "code",
   "execution_count": 261,
   "id": "living-vertex",
   "metadata": {},
   "outputs": [
    {
     "name": "stdout",
     "output_type": "stream",
     "text": [
      "tensor([[4.0227],\n",
      "        [4.0227],\n",
      "        [4.0687],\n",
      "        ...,\n",
      "        [3.6781],\n",
      "        [3.3508],\n",
      "        [3.3508]]) tensor([[121],\n",
      "        [121],\n",
      "        [121],\n",
      "        ...,\n",
      "        [122],\n",
      "        [122],\n",
      "        [122]])\n",
      "torch.Size([64, 256, 256])\n"
     ]
    }
   ],
   "source": [
    "## RebalancedAUC\n",
    "ab_grids = np.load('/Colorization/data/pts_in_hull.npy')\n",
    "dists_pred, inds_pred_pretrained = knn(torch.Tensor(ab_grids),\n",
    "                  torch.moveaxis(y_pred.cpu(), 1, -1).reshape(-1,2),\n",
    "                  1)\n",
    "print(dists_pred, inds_pred_pretrained)\n",
    "\n",
    "inds_pred_pretrained = inds_pred_pretrained.reshape(\n",
    "    np.array(torch.moveaxis(y.cpu(), 1, -1).shape[:-1]).tolist())\n",
    "print(inds_pred_pretrained.shape)"
   ]
  },
  {
   "cell_type": "code",
   "execution_count": 13,
   "id": "processed-deployment",
   "metadata": {},
   "outputs": [
    {
     "data": {
      "text/plain": [
       "(torch.Size([1048576, 1]), torch.Size([1048576, 1]))"
      ]
     },
     "execution_count": 13,
     "metadata": {},
     "output_type": "execute_result"
    }
   ],
   "source": [
    "dists.shape, inds.shape"
   ]
  },
  {
   "cell_type": "code",
   "execution_count": 13,
   "id": "continent-deposit",
   "metadata": {},
   "outputs": [
    {
     "name": "stdout",
     "output_type": "stream",
     "text": [
      "torch.Size([64, 256, 256, 1])\n"
     ]
    }
   ],
   "source": [
    "inds = inds.reshape(\n",
    "    np.array(torch.moveaxis(y.cpu(), 1, -1).shape[:-1]).tolist() + [inds.shape[-1]])\n",
    "print(inds.shape)"
   ]
  },
  {
   "cell_type": "code",
   "execution_count": 14,
   "id": "complimentary-hearing",
   "metadata": {},
   "outputs": [
    {
     "name": "stdout",
     "output_type": "stream",
     "text": [
      "torch.Size([64, 1, 256, 256])\n"
     ]
    }
   ],
   "source": [
    "inds = torch.moveaxis(inds, -1, 1)\n",
    "print(inds.shape)"
   ]
  },
  {
   "cell_type": "code",
   "execution_count": 308,
   "id": "coastal-recycling",
   "metadata": {},
   "outputs": [
    {
     "data": {
      "text/plain": [
       "((313,), 1.0, 21.0)"
      ]
     },
     "execution_count": 308,
     "metadata": {},
     "output_type": "execute_result"
    }
   ],
   "source": [
    "prior_probs2 = (prior_probs - prior_probs.min()) / (prior_probs.max() - prior_probs.min()) * 20 + 1\n",
    "prior_probs2.shape, prior_probs2.min(), prior_probs2.max()"
   ]
  },
  {
   "cell_type": "code",
   "execution_count": 282,
   "id": "genuine-complement",
   "metadata": {},
   "outputs": [
    {
     "data": {
      "text/plain": [
       "((313,), 1.6372408e-09, 0.21734297)"
      ]
     },
     "execution_count": 282,
     "metadata": {},
     "output_type": "execute_result"
    }
   ],
   "source": [
    "prior_probs.shape, prior_probs.min(), prior_probs.max()"
   ]
  },
  {
   "cell_type": "code",
   "execution_count": 16,
   "id": "joined-triple",
   "metadata": {},
   "outputs": [
    {
     "data": {
      "text/plain": [
       "(tensor(119),\n",
       " array([  0, -10]),\n",
       " tensor([  0.8204, -13.2110], device='cuda:0'),\n",
       " 0.21734297)"
      ]
     },
     "execution_count": 16,
     "metadata": {},
     "output_type": "execute_result"
    }
   ],
   "source": [
    "inds[10, 0, 200, 150], ab_grids[inds[10, 0, 200, 160]], y[10, :, 200, 160], prior_probs[120]"
   ]
  },
  {
   "cell_type": "code",
   "execution_count": 271,
   "id": "starting-banner",
   "metadata": {},
   "outputs": [
    {
     "data": {
      "text/plain": [
       "(1.0, 0.014699753, 1951385.5)"
      ]
     },
     "execution_count": 271,
     "metadata": {},
     "output_type": "execute_result"
    }
   ],
   "source": [
    "prior_factor = 1./prior_probs\n",
    "prior_factor /= np.sum(prior_probs * prior_factor)\n",
    "#prior_factor -= (prior_factor.min()-1)\n",
    "#prior_factor /= (prior_factor.min())\n",
    "#prior_factor = (prior_factor - prior_factor.min()) / (prior_factor.max()-prior_factor.min()) * 149 + 1.0\n",
    "np.sum(prior_probs * prior_factor), prior_factor.min(), prior_factor.max()"
   ]
  },
  {
   "cell_type": "code",
   "execution_count": 140,
   "id": "portable-differential",
   "metadata": {},
   "outputs": [
    {
     "data": {
      "text/plain": [
       "((313,), 0.217343, 0.21734296)"
      ]
     },
     "execution_count": 140,
     "metadata": {},
     "output_type": "execute_result"
    }
   ],
   "source": [
    "implied_prior = prior_probs*prior_factor\n",
    "implied_prior.shape, implied_prior.max(), implied_prior.min()"
   ]
  },
  {
   "cell_type": "code",
   "execution_count": 141,
   "id": "considerable-balance",
   "metadata": {},
   "outputs": [
    {
     "data": {
      "text/plain": [
       "(64, 1, 256, 256)"
      ]
     },
     "execution_count": 141,
     "metadata": {},
     "output_type": "execute_result"
    }
   ],
   "source": [
    "prior_probs[inds].shape"
   ]
  },
  {
   "cell_type": "code",
   "execution_count": null,
   "id": "stock-edwards",
   "metadata": {},
   "outputs": [],
   "source": []
  },
  {
   "cell_type": "code",
   "execution_count": 241,
   "id": "affected-target",
   "metadata": {},
   "outputs": [
    {
     "data": {
      "text/plain": [
       "((64, 1, 256, 256), 1.0, 1.0)"
      ]
     },
     "execution_count": 241,
     "metadata": {},
     "output_type": "execute_result"
    }
   ],
   "source": [
    "weights = prior_probs[inds]\n",
    "#weights = (weights - weights.min(axis=0)) / (weights.max(axis=0) - weights.min(axis=0)) * 149 + 1\n",
    "#weights /= weights.min(axis=0)\n",
    "#weights[weights < 1] = 1\n",
    "weights.shape, weights.max(), weights.min()"
   ]
  },
  {
   "cell_type": "code",
   "execution_count": 21,
   "id": "liable-hampshire",
   "metadata": {},
   "outputs": [
    {
     "data": {
      "text/plain": [
       "(array([0.04137326], dtype=float32), 198749.83)"
      ]
     },
     "execution_count": 21,
     "metadata": {},
     "output_type": "execute_result"
    }
   ],
   "source": [
    "weights[10, :, 200, 150], prior_factor[0]"
   ]
  },
  {
   "cell_type": "code",
   "execution_count": 22,
   "id": "unable-rhythm",
   "metadata": {},
   "outputs": [
    {
     "ename": "NameError",
     "evalue": "name 'dist' is not defined",
     "output_type": "error",
     "traceback": [
      "\u001b[0;31m---------------------------------------------------------------------------\u001b[0m",
      "\u001b[0;31mNameError\u001b[0m                                 Traceback (most recent call last)",
      "\u001b[0;32m<ipython-input-22-259699d7d38c>\u001b[0m in \u001b[0;36m<module>\u001b[0;34m\u001b[0m\n\u001b[0;32m----> 1\u001b[0;31m \u001b[0mdist\u001b[0m\u001b[0;34m.\u001b[0m\u001b[0mshape\u001b[0m\u001b[0;34m\u001b[0m\u001b[0;34m\u001b[0m\u001b[0m\n\u001b[0m",
      "\u001b[0;31mNameError\u001b[0m: name 'dist' is not defined"
     ]
    }
   ],
   "source": [
    "dist.shape"
   ]
  },
  {
   "cell_type": "code",
   "execution_count": 317,
   "id": "related-discrimination",
   "metadata": {},
   "outputs": [
    {
     "data": {
      "text/plain": [
       "((64, 256, 256), 21.0, 21.0)"
      ]
     },
     "execution_count": 317,
     "metadata": {},
     "output_type": "execute_result"
    }
   ],
   "source": [
    "weights_pred = prior_probs2[inds_pred]\n",
    "weights_pred.shape, weights_pred.max(), weights_pred.min()"
   ]
  },
  {
   "cell_type": "code",
   "execution_count": 310,
   "id": "threaded-antibody",
   "metadata": {},
   "outputs": [
    {
     "data": {
      "text/plain": [
       "((64, 256, 256), 21.0, 1.0150025)"
      ]
     },
     "execution_count": 310,
     "metadata": {},
     "output_type": "execute_result"
    }
   ],
   "source": [
    "weights_pred_pretrained = prior_probs2[inds_pred_pretrained]\n",
    "# weights_pred_pretrained = (weights_pred_pretrained - weights_pred_pretrained.min(axis=0)) \\\n",
    "#     / (weights_pred_pretrained.max(axis=0) - weights_pred_pretrained.min(axis=0)) * 149 + 1\n",
    "weights_pred_pretrained.shape, weights_pred_pretrained.max(), weights_pred_pretrained.min()"
   ]
  },
  {
   "cell_type": "code",
   "execution_count": null,
   "id": "frozen-recommendation",
   "metadata": {},
   "outputs": [],
   "source": [
    "np.sum(weights_pred)"
   ]
  },
  {
   "cell_type": "code",
   "execution_count": 80,
   "id": "flying-coordinator",
   "metadata": {
    "collapsed": true
   },
   "outputs": [
    {
     "data": {
      "text/plain": [
       "array([[[0.01469975, 0.01469975, 0.01469975, ..., 0.01469975,\n",
       "         0.01469975, 0.01469975],\n",
       "        [0.01469975, 0.01469975, 0.01469975, ..., 0.01469975,\n",
       "         0.01469975, 0.01469975],\n",
       "        [0.01469975, 0.01469975, 0.01469975, ..., 0.01469975,\n",
       "         0.01469975, 0.01469975],\n",
       "        ...,\n",
       "        [0.01469975, 0.01469975, 0.01469975, ..., 0.01469975,\n",
       "         0.01469975, 0.01469975],\n",
       "        [0.01469975, 0.01469975, 0.01469975, ..., 0.01469975,\n",
       "         0.01469975, 0.01469975],\n",
       "        [0.01469975, 0.01469975, 0.01469975, ..., 0.01469975,\n",
       "         0.01469975, 0.01469975]],\n",
       "\n",
       "       [[0.01469975, 0.01469975, 0.01469975, ..., 0.01469975,\n",
       "         0.01469975, 0.01469975],\n",
       "        [0.01469975, 0.01469975, 0.01469975, ..., 0.01469975,\n",
       "         0.01469975, 0.01469975],\n",
       "        [0.01469975, 0.01469975, 0.01469975, ..., 0.01469975,\n",
       "         0.01469975, 0.01469975],\n",
       "        ...,\n",
       "        [0.01469975, 0.01469975, 0.01469975, ..., 0.01469975,\n",
       "         0.01469975, 0.01469975],\n",
       "        [0.01469975, 0.01469975, 0.01469975, ..., 0.01469975,\n",
       "         0.01469975, 0.01469975],\n",
       "        [0.01469975, 0.01469975, 0.01469975, ..., 0.01469975,\n",
       "         0.01469975, 0.01469975]],\n",
       "\n",
       "       [[0.01469975, 0.01469975, 0.01469975, ..., 0.01469975,\n",
       "         0.01469975, 0.01469975],\n",
       "        [0.01469975, 0.01469975, 0.01469975, ..., 0.01469975,\n",
       "         0.01469975, 0.01469975],\n",
       "        [0.01469975, 0.01469975, 0.01469975, ..., 0.01469975,\n",
       "         0.01469975, 0.01469975],\n",
       "        ...,\n",
       "        [0.01469975, 0.01469975, 0.01469975, ..., 0.01469975,\n",
       "         0.01469975, 0.01469975],\n",
       "        [0.01469975, 0.01469975, 0.01469975, ..., 0.01469975,\n",
       "         0.01469975, 0.01469975],\n",
       "        [0.01469975, 0.01469975, 0.01469975, ..., 0.01469975,\n",
       "         0.01469975, 0.01469975]],\n",
       "\n",
       "       ...,\n",
       "\n",
       "       [[0.01469975, 0.01469975, 0.01469975, ..., 0.01469975,\n",
       "         0.01469975, 0.01469975],\n",
       "        [0.01469975, 0.01469975, 0.01469975, ..., 0.01469975,\n",
       "         0.01469975, 0.01469975],\n",
       "        [0.01469975, 0.01469975, 0.01469975, ..., 0.01469975,\n",
       "         0.01469975, 0.01469975],\n",
       "        ...,\n",
       "        [0.01469975, 0.01469975, 0.01469975, ..., 0.01469975,\n",
       "         0.01469975, 0.01469975],\n",
       "        [0.01469975, 0.01469975, 0.01469975, ..., 0.01469975,\n",
       "         0.01469975, 0.01469975],\n",
       "        [0.01469975, 0.01469975, 0.01469975, ..., 0.01469975,\n",
       "         0.01469975, 0.01469975]],\n",
       "\n",
       "       [[0.01469975, 0.01469975, 0.01469975, ..., 0.01469975,\n",
       "         0.01469975, 0.01469975],\n",
       "        [0.01469975, 0.01469975, 0.01469975, ..., 0.01469975,\n",
       "         0.01469975, 0.01469975],\n",
       "        [0.01469975, 0.01469975, 0.01469975, ..., 0.01469975,\n",
       "         0.01469975, 0.01469975],\n",
       "        ...,\n",
       "        [0.01469975, 0.01469975, 0.01469975, ..., 0.01469975,\n",
       "         0.01469975, 0.01469975],\n",
       "        [0.01469975, 0.01469975, 0.01469975, ..., 0.01469975,\n",
       "         0.01469975, 0.01469975],\n",
       "        [0.01469975, 0.01469975, 0.01469975, ..., 0.01469975,\n",
       "         0.01469975, 0.01469975]],\n",
       "\n",
       "       [[0.01469975, 0.01469975, 0.01469975, ..., 0.01469975,\n",
       "         0.01469975, 0.01469975],\n",
       "        [0.01469975, 0.01469975, 0.01469975, ..., 0.01469975,\n",
       "         0.01469975, 0.01469975],\n",
       "        [0.01469975, 0.01469975, 0.01469975, ..., 0.01469975,\n",
       "         0.01469975, 0.01469975],\n",
       "        ...,\n",
       "        [0.01469975, 0.01469975, 0.01469975, ..., 0.01469975,\n",
       "         0.01469975, 0.01469975],\n",
       "        [0.01469975, 0.01469975, 0.01469975, ..., 0.01469975,\n",
       "         0.01469975, 0.01469975],\n",
       "        [0.01469975, 0.01469975, 0.01469975, ..., 0.01469975,\n",
       "         0.01469975, 0.01469975]]], dtype=float32)"
      ]
     },
     "execution_count": 80,
     "metadata": {},
     "output_type": "execute_result"
    }
   ],
   "source": [
    "weights_pred"
   ]
  },
  {
   "cell_type": "code",
   "execution_count": 105,
   "id": "center-return",
   "metadata": {
    "collapsed": true
   },
   "outputs": [
    {
     "data": {
      "text/plain": [
       "array([[[[0.5757749 , 0.5757749 , 0.5757749 , ..., 0.16769165,\n",
       "          0.16769165, 0.16769165],\n",
       "         [0.5757749 , 0.5757749 , 0.5757749 , ..., 0.16769165,\n",
       "          0.16769165, 0.16769165],\n",
       "         [0.5757749 , 0.5757749 , 0.5757749 , ..., 0.16769165,\n",
       "          0.16769165, 0.16769165],\n",
       "         ...,\n",
       "         [0.32328326, 0.5455949 , 0.32328326, ..., 0.01469975,\n",
       "          0.01469975, 0.01469975],\n",
       "         [0.08311431, 0.08311431, 0.02920701, ..., 0.31318608,\n",
       "          0.06700978, 0.06700978],\n",
       "         [0.08311431, 0.08311431, 0.08311431, ..., 1.1080196 ,\n",
       "          1.1080196 , 1.1080196 ]]],\n",
       "\n",
       "\n",
       "       [[[1.2569231 , 1.2569231 , 1.2569231 , ..., 0.6650914 ,\n",
       "          0.6650914 , 0.29339182],\n",
       "         [1.2638615 , 1.2638615 , 1.2569231 , ..., 0.6650914 ,\n",
       "          0.6650914 , 0.6650914 ],\n",
       "         [1.2638615 , 1.2638615 , 1.2638615 , ..., 0.6171696 ,\n",
       "          0.6650914 , 0.29339182],\n",
       "         ...,\n",
       "         [0.08311431, 0.08311431, 0.08311431, ..., 0.06700978,\n",
       "          0.06700978, 0.06700978],\n",
       "         [0.10220504, 0.08311431, 0.21560922, ..., 0.06700978,\n",
       "          0.06700978, 0.06700978],\n",
       "         [0.19425398, 0.21560922, 0.21560922, ..., 0.06700978,\n",
       "          0.10220504, 0.06700978]]],\n",
       "\n",
       "\n",
       "       [[[0.02920701, 0.09410263, 0.09410263, ..., 0.02920701,\n",
       "          0.02920701, 0.02920701],\n",
       "         [0.02920701, 0.02920701, 0.02920701, ..., 0.09410263,\n",
       "          0.09410263, 0.09410263],\n",
       "         [0.02920701, 0.02920701, 0.02920701, ..., 0.09410263,\n",
       "          0.09410263, 0.09410263],\n",
       "         ...,\n",
       "         [0.01469975, 0.01469975, 0.01469975, ..., 0.01469975,\n",
       "          0.01469975, 0.01469975],\n",
       "         [0.01469975, 0.01469975, 0.01469975, ..., 0.01469975,\n",
       "          0.01469975, 0.01469975],\n",
       "         [0.01469975, 0.01469975, 0.01469975, ..., 0.01469975,\n",
       "          0.01469975, 0.01469975]]],\n",
       "\n",
       "\n",
       "       ...,\n",
       "\n",
       "\n",
       "       [[[0.01469975, 0.01469975, 0.01469975, ..., 0.01469975,\n",
       "          0.01469975, 0.01469975],\n",
       "         [0.01469975, 0.01469975, 0.01469975, ..., 0.01469975,\n",
       "          0.01469975, 0.01469975],\n",
       "         [0.01469975, 0.01469975, 0.01469975, ..., 0.01469975,\n",
       "          0.01469975, 0.01469975],\n",
       "         ...,\n",
       "         [0.01469975, 0.01469975, 0.01469975, ..., 0.01469975,\n",
       "          0.01469975, 0.01469975],\n",
       "         [0.01469975, 0.01469975, 0.01469975, ..., 0.01469975,\n",
       "          0.01469975, 0.01469975],\n",
       "         [0.01469975, 0.01469975, 0.01469975, ..., 0.01469975,\n",
       "          0.01469975, 0.01469975]]],\n",
       "\n",
       "\n",
       "       [[[0.01469975, 0.01469975, 0.01469975, ..., 0.01469975,\n",
       "          0.01469975, 0.01469975],\n",
       "         [0.01469975, 0.01469975, 0.01469975, ..., 0.01469975,\n",
       "          0.01469975, 0.01469975],\n",
       "         [0.01469975, 0.01469975, 0.01469975, ..., 0.01469975,\n",
       "          0.01469975, 0.01469975],\n",
       "         ...,\n",
       "         [0.01469975, 0.01469975, 0.01469975, ..., 0.01469975,\n",
       "          0.01469975, 0.01469975],\n",
       "         [0.01469975, 0.01469975, 0.01469975, ..., 0.01469975,\n",
       "          0.01469975, 0.01469975],\n",
       "         [0.01469975, 0.01469975, 0.01469975, ..., 0.01469975,\n",
       "          0.01469975, 0.01469975]]],\n",
       "\n",
       "\n",
       "       [[[0.45267293, 0.45267293, 0.45267293, ..., 0.01469975,\n",
       "          0.01469975, 0.01469975],\n",
       "         [0.01469975, 0.01469975, 0.01469975, ..., 0.01469975,\n",
       "          0.01469975, 0.01469975],\n",
       "         [0.01469975, 0.01469975, 0.01469975, ..., 0.01469975,\n",
       "          0.01469975, 0.01469975],\n",
       "         ...,\n",
       "         [0.02920701, 0.02920701, 0.02920701, ..., 0.01469975,\n",
       "          0.01469975, 0.01469975],\n",
       "         [0.01469975, 0.01469975, 0.01469975, ..., 0.01469975,\n",
       "          0.01469975, 0.01469975],\n",
       "         [0.01469975, 0.01469975, 0.01469975, ..., 0.01469975,\n",
       "          0.01469975, 0.01469975]]]], dtype=float32)"
      ]
     },
     "execution_count": 105,
     "metadata": {},
     "output_type": "execute_result"
    }
   ],
   "source": [
    "weights"
   ]
  },
  {
   "cell_type": "code",
   "execution_count": 316,
   "id": "demanding-forum",
   "metadata": {},
   "outputs": [
    {
     "name": "stdout",
     "output_type": "stream",
     "text": [
      "eccv16 torch.Size([64, 2, 256, 256]) torch.Size([64, 2, 256, 256])\n",
      "tensor(0.3144, device='cuda:0') tensor(0.1918, device='cuda:0')\n",
      "Normal dist:  tensor(102.8277) tensor(0.1710)\n",
      "tensor(2159.3826) tensor(3.5904)\n",
      "<class 'torch.Tensor'>\n",
      "torch.Size([151])\n",
      "torch.Size([1, 1, 1, 151]) torch.Size([64, 256, 256, 1])\n",
      "torch.Size([64, 256, 256, 151])\n",
      "tensor([      0,       0,       0,       0,    1163,    4539,    7556,   11804,\n",
      "         586712,  595187,  597596,  600475,  603896,  611890,  619816,  633974,\n",
      "         639779,  654528,  676210,  692549,  699192,  707467,  721769,  734515,\n",
      "         741786,  750003,  757342,  771859,  796751,  808358,  833330,  843463,\n",
      "         853258,  861939,  870242,  878163,  888061,  897539,  908696,  920471,\n",
      "         937067,  947293,  957537,  966051,  974172,  983214,  991318,  999774,\n",
      "        1009159, 1021550, 1036851, 1052462, 1064628, 1078181, 1087702, 1098087,\n",
      "        1107755, 1118887, 1128720, 1141366, 1158961, 1175493, 1190510, 1201746,\n",
      "        1212985, 1224523, 1235868, 1246830, 1258127, 1268500, 1279253, 1291583,\n",
      "        1303227, 1314542, 1324826, 1335368, 1345815, 1356077, 1365732, 1375389,\n",
      "        1386423, 1399219, 1411104, 1423464, 1435203, 1446160, 1455793, 1466878,\n",
      "        1476771, 1486316, 1495657, 1504726, 1513558, 1522072, 1531983, 1540996,\n",
      "        1550293, 1558763, 1567898, 1577053, 1585499, 1593489, 1601696, 1610408,\n",
      "        1619115, 1627685, 1635759, 1644241, 1651940, 1659187, 1667004, 1674096,\n",
      "        1681368, 1688972, 1696485, 1704632, 1712348, 1720202, 1728737, 1736117,\n",
      "        1743697, 1751664, 1759241, 1765783, 1774923, 1782717, 1790825, 1798538,\n",
      "        1806283, 1813738, 1821074, 1828542, 1835974, 1843631, 1853444, 1860321,\n",
      "        1866862, 1873366, 1879834, 1887040, 1894120, 1901357, 1908131, 1914774,\n",
      "        1922352, 1929301, 1935870, 1942627, 1948972, 1954633, 1960791]) 4194304\n",
      "tensor(0.3008)\n"
     ]
    },
    {
     "data": {
      "text/plain": [
       "[<matplotlib.lines.Line2D at 0x7f4adc7aab00>]"
      ]
     },
     "execution_count": 316,
     "metadata": {},
     "output_type": "execute_result"
    },
    {
     "data": {
      "image/png": "[encoded data removed]",
      "text/plain": [
       "<Figure size 432x288 with 1 Axes>"
      ]
     },
     "metadata": {
      "needs_background": "light"
     },
     "output_type": "display_data"
    }
   ],
   "source": [
    "## AUC\n",
    "print(model.name, y_pred.shape, y.shape)\n",
    "\n",
    "diff = y_pred.cpu() - y.cpu()\n",
    "print(y_pred.max(), y_pred.min())\n",
    "#diff = y.cpu() - y.cpu()\n",
    "dist = torch.norm(diff, dim=1)\n",
    "print('Normal dist: ', dist.max(), dist.min())\n",
    "\n",
    "#dist = torch.norm(diff, dim=1) * torch.Tensor(weights[:, 0, ...])\n",
    "dist = torch.norm(diff, dim=1) * torch.Tensor(weights_pred)\n",
    "#dist = torch.norm(diff, dim=1) / (torch.Tensor(weights[:, 0, ...]))\n",
    "\n",
    "#dist = (150-torch.norm(diff, dim=1)) * torch.Tensor(prior_probs[inds][:, 0, ...])\n",
    "\n",
    "print(dist.max(), dist.min())\n",
    "\n",
    "#dist /= dist.max() * 150\n",
    "#print(dist.max(), dist.min())\n",
    "\n",
    "step = 1.0\n",
    "thresholds = torch.arange(0, 150+step, step=step)\n",
    "print(type(thresholds))\n",
    "print(thresholds.shape)\n",
    "print(thresholds[None,None,None,...].shape, dist[...,None].shape)\n",
    "\n",
    "print(torch.le(dist[...,None], thresholds[None,None,None,...]).shape)\n",
    "\n",
    "pos_cnt = torch.sum(torch.le(dist[...,None], thresholds[None,None,None,...]), dim=(0,1,2))\n",
    "tot_cnt = torch.numel(dist)\n",
    "print(pos_cnt, tot_cnt)\n",
    "print(torch.sum(pos_cnt / tot_cnt) / torch.numel(pos_cnt))\n",
    "\n",
    "plt.plot(pos_cnt / tot_cnt)"
   ]
  },
  {
   "cell_type": "code",
   "execution_count": 319,
   "id": "laden-boost",
   "metadata": {},
   "outputs": [
    {
     "name": "stdout",
     "output_type": "stream",
     "text": [
      "eccv16 torch.Size([64, 2, 256, 256]) torch.Size([64, 2, 256, 256])\n",
      "tensor(0.3144, device='cuda:0') tensor(0.1918, device='cuda:0')\n",
      "Normal dist:  tensor(102.8277) tensor(0.1710)\n",
      "tensor(1877.2498) tensor(0.2023)\n",
      "<class 'torch.Tensor'>\n",
      "torch.Size([151])\n",
      "torch.Size([1, 1, 1, 151]) torch.Size([64, 256, 256, 1])\n",
      "torch.Size([64, 256, 256, 151])\n",
      "tensor([      0,  162477,  366170,  456863,  495446,  572608,  613780,  657601,\n",
      "         831258,  877679,  926923,  971799, 1020443, 1066719, 1116681, 1170530,\n",
      "        1218013, 1268816, 1318969, 1367605, 1414275, 1458114, 1500885, 1541055,\n",
      "        1575589, 1609952, 1644613, 1688683, 1736160, 1770972, 1815640, 1848286,\n",
      "        1884936, 1917850, 1949373, 1981189, 2012868, 2043942, 2076486, 2108917,\n",
      "        2142873, 2173490, 2204257, 2234833, 2265829, 2296126, 2326492, 2355015,\n",
      "        2383243, 2411960, 2442790, 2471217, 2497704, 2522385, 2547582, 2572469,\n",
      "        2600554, 2625650, 2650713, 2674604, 2702090, 2729700, 2755620, 2779912,\n",
      "        2803530, 2826618, 2850148, 2870953, 2891503, 2910065, 2928471, 2947709,\n",
      "        2965426, 2982975, 3000719, 3019111, 3040742, 3063402, 3082766, 3100850,\n",
      "        3119599, 3138053, 3154599, 3170591, 3185557, 3200875, 3215339, 3229264,\n",
      "        3242229, 3255317, 3268979, 3282350, 3295556, 3308517, 3321549, 3334345,\n",
      "        3347499, 3360652, 3373705, 3386439, 3398913, 3410657, 3422758, 3434476,\n",
      "        3446391, 3458229, 3469460, 3481131, 3491625, 3502434, 3513520, 3524263,\n",
      "        3534628, 3544763, 3554418, 3564681, 3575118, 3584850, 3594399, 3602996,\n",
      "        3611584, 3619570, 3627588, 3635244, 3644936, 3652972, 3661127, 3668789,\n",
      "        3677114, 3685428, 3693139, 3700466, 3707568, 3714709, 3723816, 3730271,\n",
      "        3736374, 3742248, 3748196, 3754307, 3759724, 3765027, 3770587, 3776069,\n",
      "        3781617, 3787028, 3792308, 3797617, 3802779, 3807695, 3812671]) 4194304\n",
      "tensor(0.6464)\n"
     ]
    },
    {
     "data": {
      "text/plain": [
       "[<matplotlib.lines.Line2D at 0x7f4a29e3e2b0>]"
      ]
     },
     "execution_count": 319,
     "metadata": {},
     "output_type": "execute_result"
    },
    {
     "data": {
      "image/png": "[encoded data removed]",
      "text/plain": [
       "<Figure size 432x288 with 1 Axes>"
      ]
     },
     "metadata": {
      "needs_background": "light"
     },
     "output_type": "display_data"
    }
   ],
   "source": [
    "## AUC scratch\n",
    "print(model.name, y_pred.shape, y.shape)\n",
    "\n",
    "diff = y_pred.cpu() - y.cpu()\n",
    "print(y_pred.max(), y_pred.min())\n",
    "#diff = y.cpu() - y.cpu()\n",
    "dist = torch.norm(diff, dim=1)\n",
    "print('Normal dist: ', dist.max(), dist.min())\n",
    "\n",
    "#dist = torch.norm(diff, dim=1) * torch.Tensor(weights[:, 0, ...])\n",
    "dist = torch.norm(diff, dim=1) * torch.Tensor(weights_pred_pretrained)\n",
    "#dist = torch.norm(diff, dim=1) / (torch.Tensor(weights[:, 0, ...]))\n",
    "\n",
    "#dist = (150-torch.norm(diff, dim=1)) * torch.Tensor(prior_probs[inds][:, 0, ...])\n",
    "\n",
    "print(dist.max(), dist.min())\n",
    "\n",
    "#dist /= dist.max() * 150\n",
    "#print(dist.max(), dist.min())\n",
    "\n",
    "step = 1.0\n",
    "thresholds = torch.arange(0, 150+step, step=step)\n",
    "print(type(thresholds))\n",
    "print(thresholds.shape)\n",
    "print(thresholds[None,None,None,...].shape, dist[...,None].shape)\n",
    "\n",
    "print(torch.le(dist[...,None], thresholds[None,None,None,...]).shape)\n",
    "\n",
    "pos_cnt = torch.sum(torch.le(dist[...,None], thresholds[None,None,None,...]), dim=(0,1,2))\n",
    "tot_cnt = torch.numel(dist)\n",
    "print(pos_cnt, tot_cnt)\n",
    "print(torch.sum(pos_cnt / tot_cnt) / torch.numel(pos_cnt))\n",
    "\n",
    "plt.plot(pos_cnt / tot_cnt)"
   ]
  },
  {
   "cell_type": "code",
   "execution_count": 111,
   "id": "utility-elevation",
   "metadata": {},
   "outputs": [
    {
     "data": {
      "text/plain": [
       "3.2827003e-05"
      ]
     },
     "execution_count": 111,
     "metadata": {},
     "output_type": "execute_result"
    }
   ],
   "source": [
    "prior_probs[inds].min()"
   ]
  },
  {
   "cell_type": "markdown",
   "id": "orange-hurricane",
   "metadata": {},
   "source": [
    "## No weighting"
   ]
  },
  {
   "cell_type": "code",
   "execution_count": 87,
   "id": "graphic-earth",
   "metadata": {},
   "outputs": [
    {
     "name": "stdout",
     "output_type": "stream",
     "text": [
      "torch.Size([64, 2, 256, 256]) torch.Size([64, 2, 256, 256])\n",
      "Normal dist:  tensor(102.3327) tensor(0.0679)\n",
      "tensor(102.3327) tensor(0.0679)\n",
      "<class 'torch.Tensor'>\n",
      "torch.Size([151])\n",
      "torch.Size([1, 1, 1, 151]) torch.Size([64, 256, 256, 1])\n",
      "torch.Size([64, 256, 256, 151])\n",
      "tensor([      0,  726085,  963402, 1195531, 1422628, 1621856, 1784008, 1931373,\n",
      "        2061631, 2172408, 2266395, 2356664, 2446095, 2524130, 2597530, 2670418,\n",
      "        2745891, 2826175, 2905620, 2983633, 3057791, 3123794, 3184603, 3239514,\n",
      "        3291784, 3342985, 3388677, 3428930, 3466603, 3501999, 3537774, 3571874,\n",
      "        3605143, 3637761, 3669975, 3704021, 3737100, 3767689, 3792537, 3815639,\n",
      "        3841184, 3873842, 3901726, 3925503, 3946494, 3962261, 3976110, 3988813,\n",
      "        4002148, 4014492, 4026143, 4037609, 4048820, 4058757, 4068055, 4077307,\n",
      "        4086248, 4094717, 4102700, 4110452, 4118270, 4125691, 4131799, 4137185,\n",
      "        4142342, 4146630, 4150334, 4154044, 4157807, 4161529, 4164457, 4166978,\n",
      "        4169325, 4171526, 4173520, 4175558, 4177633, 4179651, 4181806, 4183666,\n",
      "        4185348, 4186769, 4188012, 4189127, 4190020, 4190755, 4191225, 4191588,\n",
      "        4191931, 4192248, 4192618, 4192978, 4193194, 4193352, 4193494, 4193617,\n",
      "        4193757, 4193884, 4193994, 4194107, 4194207, 4194274, 4194296, 4194304,\n",
      "        4194304, 4194304, 4194304, 4194304, 4194304, 4194304, 4194304, 4194304,\n",
      "        4194304, 4194304, 4194304, 4194304, 4194304, 4194304, 4194304, 4194304,\n",
      "        4194304, 4194304, 4194304, 4194304, 4194304, 4194304, 4194304, 4194304,\n",
      "        4194304, 4194304, 4194304, 4194304, 4194304, 4194304, 4194304, 4194304,\n",
      "        4194304, 4194304, 4194304, 4194304, 4194304, 4194304, 4194304, 4194304,\n",
      "        4194304, 4194304, 4194304, 4194304, 4194304, 4194304, 4194304]) 4194304\n",
      "tensor(0.9018)\n"
     ]
    },
    {
     "data": {
      "text/plain": [
       "[<matplotlib.lines.Line2D at 0x7f4ae46c0710>]"
      ]
     },
     "execution_count": 87,
     "metadata": {},
     "output_type": "execute_result"
    },
    {
     "data": {
      "image/png": "[encoded data removed]",
      "text/plain": [
       "<Figure size 432x288 with 1 Axes>"
      ]
     },
     "metadata": {
      "needs_background": "light"
     },
     "output_type": "display_data"
    }
   ],
   "source": [
    "## AUC scratch\n",
    "print(y_pred.shape, y.shape)\n",
    "\n",
    "diff = y_pred.cpu() - y.cpu()\n",
    "#diff = y.cpu() - y.cpu()\n",
    "dist = torch.norm(diff, dim=1)\n",
    "print('Normal dist: ', dist.max(), dist.min())\n",
    "\n",
    "dist = torch.norm(diff, dim=1)\n",
    "# dist = torch.norm(diff, dim=1) * torch.Tensor(weights_pred)\n",
    "#dist = torch.norm(diff, dim=1) / (torch.Tensor(weights[:, 0, ...]))\n",
    "\n",
    "#dist = (150-torch.norm(diff, dim=1)) * torch.Tensor(prior_probs[inds][:, 0, ...])\n",
    "\n",
    "print(dist.max(), dist.min())\n",
    "\n",
    "#dist /= dist.max() * 150\n",
    "#print(dist.max(), dist.min())\n",
    "\n",
    "step = 1.0\n",
    "thresholds = torch.arange(0, 150+step, step=step)\n",
    "print(type(thresholds))\n",
    "print(thresholds.shape)\n",
    "print(thresholds[None,None,None,...].shape, dist[...,None].shape)\n",
    "\n",
    "print(torch.le(dist[...,None], thresholds[None,None,None,...]).shape)\n",
    "\n",
    "pos_cnt = torch.sum(torch.le(dist[...,None], thresholds[None,None,None,...]), dim=(0,1,2))\n",
    "tot_cnt = torch.numel(dist)\n",
    "print(pos_cnt, tot_cnt)\n",
    "print(torch.sum(pos_cnt / tot_cnt) / torch.numel(pos_cnt))\n",
    "\n",
    "plt.plot(pos_cnt / tot_cnt)"
   ]
  },
  {
   "cell_type": "code",
   "execution_count": 91,
   "id": "rolled-detective",
   "metadata": {},
   "outputs": [
    {
     "name": "stdout",
     "output_type": "stream",
     "text": [
      "torch.Size([64, 2, 256, 256]) torch.Size([64, 2, 256, 256])\n",
      "Normal dist:  tensor(113.9902) tensor(0.0038)\n",
      "tensor(113.9902) tensor(0.0038)\n",
      "<class 'torch.Tensor'>\n",
      "torch.Size([151])\n",
      "torch.Size([1, 1, 1, 151]) torch.Size([64, 256, 256, 1])\n",
      "torch.Size([64, 256, 256, 151])\n",
      "tensor([      0,   63030,  170796,  304280,  461445,  631558,  807792,  987092,\n",
      "        1169182, 1346033, 1520298, 1688023, 1846632, 1999393, 2144117, 2280689,\n",
      "        2409853, 2532230, 2648118, 2760635, 2871974, 2982190, 3088097, 3187226,\n",
      "        3278706, 3360493, 3432484, 3495281, 3553182, 3606509, 3656347, 3703985,\n",
      "        3747956, 3786866, 3821576, 3853584, 3884993, 3916328, 3945749, 3972764,\n",
      "        3998135, 4021382, 4042118, 4061337, 4078649, 4094299, 4108179, 4120410,\n",
      "        4130835, 4139600, 4147378, 4154275, 4160127, 4164776, 4168403, 4171413,\n",
      "        4173991, 4176329, 4178454, 4180300, 4181886, 4183375, 4184719, 4185946,\n",
      "        4187047, 4188087, 4189011, 4189841, 4190494, 4191017, 4191412, 4191701,\n",
      "        4191947, 4192166, 4192378, 4192531, 4192695, 4192828, 4192981, 4193136,\n",
      "        4193266, 4193360, 4193446, 4193493, 4193558, 4193636, 4193700, 4193790,\n",
      "        4193856, 4193923, 4193975, 4194036, 4194095, 4194160, 4194201, 4194229,\n",
      "        4194254, 4194266, 4194277, 4194281, 4194285, 4194287, 4194290, 4194291,\n",
      "        4194292, 4194295, 4194297, 4194298, 4194299, 4194300, 4194301, 4194301,\n",
      "        4194301, 4194301, 4194304, 4194304, 4194304, 4194304, 4194304, 4194304,\n",
      "        4194304, 4194304, 4194304, 4194304, 4194304, 4194304, 4194304, 4194304,\n",
      "        4194304, 4194304, 4194304, 4194304, 4194304, 4194304, 4194304, 4194304,\n",
      "        4194304, 4194304, 4194304, 4194304, 4194304, 4194304, 4194304, 4194304,\n",
      "        4194304, 4194304, 4194304, 4194304, 4194304, 4194304, 4194304]) 4194304\n",
      "tensor(0.8889)\n"
     ]
    },
    {
     "data": {
      "text/plain": [
       "[<matplotlib.lines.Line2D at 0x7f4b1007e0b8>]"
      ]
     },
     "execution_count": 91,
     "metadata": {},
     "output_type": "execute_result"
    },
    {
     "data": {
      "image/png": "[encoded data removed]",
      "text/plain": [
       "<Figure size 432x288 with 1 Axes>"
      ]
     },
     "metadata": {
      "needs_background": "light"
     },
     "output_type": "display_data"
    }
   ],
   "source": [
    "## AUC pretrained\n",
    "print(y_pred.shape, y.shape)\n",
    "\n",
    "diff = y_pred.cpu() - y.cpu()\n",
    "#diff = y.cpu() - y.cpu()\n",
    "dist = torch.norm(diff, dim=1)\n",
    "print('Normal dist: ', dist.max(), dist.min())\n",
    "\n",
    "dist = torch.norm(diff, dim=1)\n",
    "# dist = torch.norm(diff, dim=1) * torch.Tensor(weights_pred)\n",
    "#dist = torch.norm(diff, dim=1) / (torch.Tensor(weights[:, 0, ...]))\n",
    "\n",
    "#dist = (150-torch.norm(diff, dim=1)) * torch.Tensor(prior_probs[inds][:, 0, ...])\n",
    "\n",
    "print(dist.max(), dist.min())\n",
    "\n",
    "#dist /= dist.max() * 150\n",
    "#print(dist.max(), dist.min())\n",
    "\n",
    "step = 1.0\n",
    "thresholds = torch.arange(0, 150+step, step=step)\n",
    "print(type(thresholds))\n",
    "print(thresholds.shape)\n",
    "print(thresholds[None,None,None,...].shape, dist[...,None].shape)\n",
    "\n",
    "print(torch.le(dist[...,None], thresholds[None,None,None,...]).shape)\n",
    "\n",
    "pos_cnt = torch.sum(torch.le(dist[...,None], thresholds[None,None,None,...]), dim=(0,1,2))\n",
    "tot_cnt = torch.numel(dist)\n",
    "print(pos_cnt, tot_cnt)\n",
    "print(torch.sum(pos_cnt / tot_cnt) / torch.numel(pos_cnt))\n",
    "\n",
    "plt.plot(pos_cnt / tot_cnt)"
   ]
  }
 ],
 "metadata": {
  "kernelspec": {
   "display_name": "Python 3",
   "language": "python",
   "name": "python3"
  },
  "language_info": {
   "codemirror_mode": {
    "name": "ipython",
    "version": 3
   },
   "file_extension": ".py",
   "mimetype": "text/x-python",
   "name": "python",
   "nbconvert_exporter": "python",
   "pygments_lexer": "ipython3",
   "version": "3.6.9"
  }
 },
 "nbformat": 4,
 "nbformat_minor": 5
}
