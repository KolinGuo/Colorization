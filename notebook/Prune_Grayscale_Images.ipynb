{
 "cells": [
  {
   "cell_type": "code",
   "execution_count": 1,
   "id": "prerequisite-think",
   "metadata": {},
   "outputs": [],
   "source": [
    "import sys\n",
    "sys.path.append(\"/Colorization/src\")  # Append path to src\n",
    "import time\n",
    "import numpy as np\n",
    "import os\n",
    "import glob\n",
    "from tqdm import tqdm\n",
    "\n",
    "from PIL import Image"
   ]
  },
  {
   "cell_type": "code",
   "execution_count": 2,
   "id": "rural-sociology",
   "metadata": {},
   "outputs": [],
   "source": [
    "root = '/Colorization/data/train2017'\n",
    "img_paths = sorted(glob.glob(os.path.join(root, \"*.jpg\")))"
   ]
  },
  {
   "cell_type": "code",
   "execution_count": 3,
   "id": "necessary-postcard",
   "metadata": {},
   "outputs": [
    {
     "name": "stderr",
     "output_type": "stream",
     "text": [
      "100%|██████████| 118287/118287 [00:15<00:00, 7716.45it/s]"
     ]
    },
    {
     "name": "stdout",
     "output_type": "stream",
     "text": [
      "Unique image modes:  ['L' 'RGB']\n"
     ]
    },
    {
     "name": "stderr",
     "output_type": "stream",
     "text": [
      "\n"
     ]
    }
   ],
   "source": [
    "img_modes = []\n",
    "img_not_rgb_path = []\n",
    "for img_path in tqdm(img_paths):\n",
    "    img = Image.open(img_path)\n",
    "    img_modes.append(img.mode)\n",
    "    \n",
    "    if img.mode != 'RGB':\n",
    "        img_not_rgb_path.append(img_path)\n",
    "print('Unique image modes: ', np.unique(np.array(img_modes)))"
   ]
  },
  {
   "cell_type": "code",
   "execution_count": 4,
   "id": "regulation-baker",
   "metadata": {},
   "outputs": [
    {
     "name": "stdout",
     "output_type": "stream",
     "text": [
      "# of non-RGB images: 227\n",
      "['/Colorization/data/train2017/000000000086.jpg', '/Colorization/data/train2017/000000000821.jpg', '/Colorization/data/train2017/000000001350.jpg', '/Colorization/data/train2017/000000003293.jpg', '/Colorization/data/train2017/000000005294.jpg', '/Colorization/data/train2017/000000006379.jpg', '/Colorization/data/train2017/000000006432.jpg', '/Colorization/data/train2017/000000008794.jpg', '/Colorization/data/train2017/000000010125.jpg', '/Colorization/data/train2017/000000011801.jpg', '/Colorization/data/train2017/000000012345.jpg', '/Colorization/data/train2017/000000015236.jpg', '/Colorization/data/train2017/000000015286.jpg', '/Colorization/data/train2017/000000018702.jpg', '/Colorization/data/train2017/000000025404.jpg', '/Colorization/data/train2017/000000027412.jpg', '/Colorization/data/train2017/000000029275.jpg', '/Colorization/data/train2017/000000030349.jpg', '/Colorization/data/train2017/000000032405.jpg', '/Colorization/data/train2017/000000033127.jpg', '/Colorization/data/train2017/000000033352.jpg', '/Colorization/data/train2017/000000034861.jpg', '/Colorization/data/train2017/000000035880.jpg', '/Colorization/data/train2017/000000039068.jpg', '/Colorization/data/train2017/000000039790.jpg', '/Colorization/data/train2017/000000039900.jpg', '/Colorization/data/train2017/000000040428.jpg', '/Colorization/data/train2017/000000046433.jpg', '/Colorization/data/train2017/000000053756.jpg', '/Colorization/data/train2017/000000057978.jpg', '/Colorization/data/train2017/000000058517.jpg', '/Colorization/data/train2017/000000060060.jpg', '/Colorization/data/train2017/000000061048.jpg', '/Colorization/data/train2017/000000064270.jpg', '/Colorization/data/train2017/000000064332.jpg', '/Colorization/data/train2017/000000066642.jpg', '/Colorization/data/train2017/000000072098.jpg', '/Colorization/data/train2017/000000075052.jpg', '/Colorization/data/train2017/000000077709.jpg', '/Colorization/data/train2017/000000080906.jpg', '/Colorization/data/train2017/000000081003.jpg', '/Colorization/data/train2017/000000084582.jpg', '/Colorization/data/train2017/000000085407.jpg', '/Colorization/data/train2017/000000087509.jpg', '/Colorization/data/train2017/000000093120.jpg', '/Colorization/data/train2017/000000095753.jpg', '/Colorization/data/train2017/000000100896.jpg', '/Colorization/data/train2017/000000103499.jpg', '/Colorization/data/train2017/000000104124.jpg', '/Colorization/data/train2017/000000105872.jpg', '/Colorization/data/train2017/000000107450.jpg', '/Colorization/data/train2017/000000107962.jpg', '/Colorization/data/train2017/000000111109.jpg', '/Colorization/data/train2017/000000113929.jpg', '/Colorization/data/train2017/000000118895.jpg', '/Colorization/data/train2017/000000122051.jpg', '/Colorization/data/train2017/000000123539.jpg', '/Colorization/data/train2017/000000124694.jpg', '/Colorization/data/train2017/000000126531.jpg', '/Colorization/data/train2017/000000131366.jpg', '/Colorization/data/train2017/000000131942.jpg', '/Colorization/data/train2017/000000132791.jpg', '/Colorization/data/train2017/000000134071.jpg', '/Colorization/data/train2017/000000134206.jpg', '/Colorization/data/train2017/000000134918.jpg', '/Colorization/data/train2017/000000140092.jpg', '/Colorization/data/train2017/000000140623.jpg', '/Colorization/data/train2017/000000140627.jpg', '/Colorization/data/train2017/000000145288.jpg', '/Colorization/data/train2017/000000150354.jpg', '/Colorization/data/train2017/000000154053.jpg', '/Colorization/data/train2017/000000155083.jpg', '/Colorization/data/train2017/000000155811.jpg', '/Colorization/data/train2017/000000155954.jpg', '/Colorization/data/train2017/000000156878.jpg', '/Colorization/data/train2017/000000166522.jpg', '/Colorization/data/train2017/000000173081.jpg', '/Colorization/data/train2017/000000173610.jpg', '/Colorization/data/train2017/000000176397.jpg', '/Colorization/data/train2017/000000176483.jpg', '/Colorization/data/train2017/000000179405.jpg', '/Colorization/data/train2017/000000185639.jpg', '/Colorization/data/train2017/000000186888.jpg', '/Colorization/data/train2017/000000204792.jpg', '/Colorization/data/train2017/000000205486.jpg', '/Colorization/data/train2017/000000205782.jpg', '/Colorization/data/train2017/000000207339.jpg', '/Colorization/data/train2017/000000208206.jpg', '/Colorization/data/train2017/000000210175.jpg', '/Colorization/data/train2017/000000210847.jpg', '/Colorization/data/train2017/000000211867.jpg', '/Colorization/data/train2017/000000213280.jpg', '/Colorization/data/train2017/000000217341.jpg', '/Colorization/data/train2017/000000217886.jpg', '/Colorization/data/train2017/000000220770.jpg', '/Colorization/data/train2017/000000220898.jpg', '/Colorization/data/train2017/000000221691.jpg', '/Colorization/data/train2017/000000223616.jpg', '/Colorization/data/train2017/000000225717.jpg', '/Colorization/data/train2017/000000226585.jpg', '/Colorization/data/train2017/000000228474.jpg', '/Colorization/data/train2017/000000233263.jpg', '/Colorization/data/train2017/000000243205.jpg', '/Colorization/data/train2017/000000249711.jpg', '/Colorization/data/train2017/000000249835.jpg', '/Colorization/data/train2017/000000250239.jpg', '/Colorization/data/train2017/000000257178.jpg', '/Colorization/data/train2017/000000259284.jpg', '/Colorization/data/train2017/000000260962.jpg', '/Colorization/data/train2017/000000263002.jpg', '/Colorization/data/train2017/000000264165.jpg', '/Colorization/data/train2017/000000264753.jpg', '/Colorization/data/train2017/000000268036.jpg', '/Colorization/data/train2017/000000269858.jpg', '/Colorization/data/train2017/000000270925.jpg', '/Colorization/data/train2017/000000280731.jpg', '/Colorization/data/train2017/000000287422.jpg', '/Colorization/data/train2017/000000293833.jpg', '/Colorization/data/train2017/000000296884.jpg', '/Colorization/data/train2017/000000300200.jpg', '/Colorization/data/train2017/000000312288.jpg', '/Colorization/data/train2017/000000313608.jpg', '/Colorization/data/train2017/000000316867.jpg', '/Colorization/data/train2017/000000321897.jpg', '/Colorization/data/train2017/000000325387.jpg', '/Colorization/data/train2017/000000330736.jpg', '/Colorization/data/train2017/000000336668.jpg', '/Colorization/data/train2017/000000341892.jpg', '/Colorization/data/train2017/000000342051.jpg', '/Colorization/data/train2017/000000342921.jpg', '/Colorization/data/train2017/000000343009.jpg', '/Colorization/data/train2017/000000347111.jpg', '/Colorization/data/train2017/000000349069.jpg', '/Colorization/data/train2017/000000353952.jpg', '/Colorization/data/train2017/000000358281.jpg', '/Colorization/data/train2017/000000361221.jpg', '/Colorization/data/train2017/000000361516.jpg', '/Colorization/data/train2017/000000363331.jpg', '/Colorization/data/train2017/000000369966.jpg', '/Colorization/data/train2017/000000377837.jpg', '/Colorization/data/train2017/000000377984.jpg', '/Colorization/data/train2017/000000380088.jpg', '/Colorization/data/train2017/000000381270.jpg', '/Colorization/data/train2017/000000384693.jpg', '/Colorization/data/train2017/000000384907.jpg', '/Colorization/data/train2017/000000384910.jpg', '/Colorization/data/train2017/000000385625.jpg', '/Colorization/data/train2017/000000386204.jpg', '/Colorization/data/train2017/000000389206.jpg', '/Colorization/data/train2017/000000389984.jpg', '/Colorization/data/train2017/000000390663.jpg', '/Colorization/data/train2017/000000394322.jpg', '/Colorization/data/train2017/000000394547.jpg', '/Colorization/data/train2017/000000397575.jpg', '/Colorization/data/train2017/000000400107.jpg', '/Colorization/data/train2017/000000401901.jpg', '/Colorization/data/train2017/000000406011.jpg', '/Colorization/data/train2017/000000406404.jpg', '/Colorization/data/train2017/000000406744.jpg', '/Colorization/data/train2017/000000410498.jpg', '/Colorization/data/train2017/000000416372.jpg', '/Colorization/data/train2017/000000416869.jpg', '/Colorization/data/train2017/000000421195.jpg', '/Colorization/data/train2017/000000421613.jpg', '/Colorization/data/train2017/000000426558.jpg', '/Colorization/data/train2017/000000427401.jpg', '/Colorization/data/train2017/000000429633.jpg', '/Colorization/data/train2017/000000431115.jpg', '/Colorization/data/train2017/000000434765.jpg', '/Colorization/data/train2017/000000434837.jpg', '/Colorization/data/train2017/000000436984.jpg', '/Colorization/data/train2017/000000439589.jpg', '/Colorization/data/train2017/000000443689.jpg', '/Colorization/data/train2017/000000443909.jpg', '/Colorization/data/train2017/000000445845.jpg', '/Colorization/data/train2017/000000449901.jpg', '/Colorization/data/train2017/000000450674.jpg', '/Colorization/data/train2017/000000451074.jpg', '/Colorization/data/train2017/000000451095.jpg', '/Colorization/data/train2017/000000454000.jpg', '/Colorization/data/train2017/000000457741.jpg', '/Colorization/data/train2017/000000458073.jpg', '/Colorization/data/train2017/000000463454.jpg', '/Colorization/data/train2017/000000470442.jpg', '/Colorization/data/train2017/000000470933.jpg', '/Colorization/data/train2017/000000476888.jpg', '/Colorization/data/train2017/000000480482.jpg', '/Colorization/data/train2017/000000484742.jpg', '/Colorization/data/train2017/000000491058.jpg', '/Colorization/data/train2017/000000492325.jpg', '/Colorization/data/train2017/000000492395.jpg', '/Colorization/data/train2017/000000494273.jpg', '/Colorization/data/train2017/000000496444.jpg', '/Colorization/data/train2017/000000498856.jpg', '/Colorization/data/train2017/000000503640.jpg', '/Colorization/data/train2017/000000505962.jpg', '/Colorization/data/train2017/000000507794.jpg', '/Colorization/data/train2017/000000509358.jpg', '/Colorization/data/train2017/000000510587.jpg', '/Colorization/data/train2017/000000517899.jpg', '/Colorization/data/train2017/000000518025.jpg', '/Colorization/data/train2017/000000518951.jpg', '/Colorization/data/train2017/000000520479.jpg', '/Colorization/data/train2017/000000525513.jpg', '/Colorization/data/train2017/000000532787.jpg', '/Colorization/data/train2017/000000532919.jpg', '/Colorization/data/train2017/000000537427.jpg', '/Colorization/data/train2017/000000540378.jpg', '/Colorization/data/train2017/000000549879.jpg', '/Colorization/data/train2017/000000555583.jpg', '/Colorization/data/train2017/000000559665.jpg', '/Colorization/data/train2017/000000560349.jpg', '/Colorization/data/train2017/000000561842.jpg', '/Colorization/data/train2017/000000563376.jpg', '/Colorization/data/train2017/000000563447.jpg', '/Colorization/data/train2017/000000564314.jpg', '/Colorization/data/train2017/000000566596.jpg', '/Colorization/data/train2017/000000571415.jpg', '/Colorization/data/train2017/000000571503.jpg', '/Colorization/data/train2017/000000573179.jpg', '/Colorization/data/train2017/000000575029.jpg', '/Colorization/data/train2017/000000576700.jpg', '/Colorization/data/train2017/000000577207.jpg', '/Colorization/data/train2017/000000577265.jpg', '/Colorization/data/train2017/000000578250.jpg', '/Colorization/data/train2017/000000579138.jpg', '/Colorization/data/train2017/000000579239.jpg']\n"
     ]
    }
   ],
   "source": [
    "print('# of non-RGB images:', len(img_not_rgb_path))\n",
    "print(img_not_rgb_path)"
   ]
  },
  {
   "cell_type": "code",
   "execution_count": 5,
   "id": "identified-delight",
   "metadata": {},
   "outputs": [
    {
     "name": "stdout",
     "output_type": "stream",
     "text": [
      "save_dir: /Colorization/data/train2017_gray\n"
     ]
    }
   ],
   "source": [
    "## Move grayscale images to\n",
    "save_dir = os.path.join(os.path.dirname(root), os.path.basename(root)+'_gray')\n",
    "print('save_dir:', save_dir)\n",
    "os.makedirs(save_dir)"
   ]
  },
  {
   "cell_type": "code",
   "execution_count": 6,
   "id": "prime-drink",
   "metadata": {},
   "outputs": [
    {
     "name": "stderr",
     "output_type": "stream",
     "text": [
      "100%|██████████| 227/227 [00:00<00:00, 5557.80it/s]\n"
     ]
    }
   ],
   "source": [
    "import shutil\n",
    "for img_path in tqdm(img_not_rgb_path):\n",
    "    img_save_path = os.path.join(save_dir, os.path.basename(img_path))\n",
    "    #print(img_path, '->', img_save_path)\n",
    "    shutil.move(img_path, img_save_path)"
   ]
  }
 ],
 "metadata": {
  "kernelspec": {
   "display_name": "Python 3",
   "language": "python",
   "name": "python3"
  },
  "language_info": {
   "codemirror_mode": {
    "name": "ipython",
    "version": 3
   },
   "file_extension": ".py",
   "mimetype": "text/x-python",
   "name": "python",
   "nbconvert_exporter": "python",
   "pygments_lexer": "ipython3",
   "version": "3.6.9"
  }
 },
 "nbformat": 4,
 "nbformat_minor": 5
}
